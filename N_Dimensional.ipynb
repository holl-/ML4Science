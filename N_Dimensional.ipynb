{
 "cells": [
  {
   "cell_type": "markdown",
   "source": [
    "# Writing *n*-dimensional Code with ML4Science\n",
    "\n",
    "[![Colab](https://colab.research.google.com/assets/colab-badge.svg)](https://colab.research.google.com/github/tum-pbs/ML4Science/blob/main/docs/N_Dimensional.ipynb)\n",
    "&nbsp; • &nbsp; [🌐 **ML4Science**](https://github.com/tum-pbs/ML4Science)\n",
    "&nbsp; • &nbsp; [📖 **Documentation**](https://tum-pbs.github.io/ML4Science/)\n",
    "&nbsp; • &nbsp; [🔗 **API**](https://tum-pbs.github.io/ML4Science/ml4s)\n",
    "&nbsp; • &nbsp; [**▶ Videos**]()\n",
    "&nbsp; • &nbsp; [<img src=\"images/colab_logo_small.png\" height=4>](https://colab.research.google.com/github/tum-pbs/ML4Science/blob/main/docs/Examples.ipynb) [**Examples**](https://tum-pbs.github.io/ML4Science/Examples.html)\n",
    "\n",
    "ML4Science's [dimension types](Shapes.html) allow you to write abstract code that scales with the number of *spatial* dimensions."
   ],
   "metadata": {
    "collapsed": false,
    "pycharm": {
     "name": "#%% md\n"
    }
   }
  },
  {
   "cell_type": "code",
   "execution_count": 15,
   "outputs": [],
   "source": [
    "%%capture\n",
    "!pip install ml4s\n",
    "\n",
    "from ml4s import math\n",
    "from ml4s.math import spatial, channel, instance"
   ],
   "metadata": {
    "collapsed": false,
    "pycharm": {
     "name": "#%%\n"
    }
   }
  },
  {
   "cell_type": "markdown",
   "source": [
    "## Grids\n",
    "\n",
    "Grids are a popular data structure that in *n* dimensions.\n",
    "In ML4Science, each axis of the grid is represented by a spatial dimension."
   ],
   "metadata": {
    "collapsed": false,
    "pycharm": {
     "name": "#%% md\n"
    }
   }
  },
  {
   "cell_type": "code",
   "execution_count": 2,
   "outputs": [],
   "source": [
    "grid_1d = math.random_uniform(spatial(x=5))\n",
    "grid_2d = math.random_uniform(spatial(x=3, y=3))\n",
    "grid_3d = math.random_uniform(spatial(x=16, y=16, z=16))"
   ],
   "metadata": {
    "collapsed": false,
    "pycharm": {
     "name": "#%%\n"
    }
   }
  },
  {
   "cell_type": "markdown",
   "source": [
    "Note that the dimension names are arbitrary.\n",
    "We chose `x`, `y`, `z` for readability.\n",
    "\n",
    "Now, let's write a function that outputs the mean of the direct neighbors of each cell.\n",
    "In 1D, this would be the stencil (.5, 0, .5) and in 2D (0, .25, 0; .25, 0, .25; 0, .25, 0)."
   ],
   "metadata": {
    "collapsed": false,
    "pycharm": {
     "name": "#%% md\n"
    }
   }
  },
  {
   "cell_type": "code",
   "execution_count": 3,
   "outputs": [],
   "source": [
    "def neighbor_mean(grid):\n",
    "    left, right = math.shift(grid, (-1, 1), padding=math.extrapolation.PERIODIC)\n",
    "    return math.mean([left, right], math.non_spatial)"
   ],
   "metadata": {
    "collapsed": false,
    "pycharm": {
     "name": "#%%\n"
    }
   }
  },
  {
   "cell_type": "markdown",
   "source": [
    "This function uses [`math.shift()`](ml4s/math#ml4s.math.shift) to access the left and right neighbor in each direction.\n",
    "By default, `shift` shifts in all spatial dimensions and lists the result along a new channel dimension.\n",
    "Then we can take the mean of the `right` and the `left` values to compute the mean of all neighbors.\n",
    "\n",
    "We can now evaluate the function in 1D, 2D, 3D, etc. and it will automatically derive the correct stencil."
   ],
   "metadata": {
    "collapsed": false,
    "pycharm": {
     "name": "#%% md\n"
    }
   }
  },
  {
   "cell_type": "code",
   "execution_count": 4,
   "outputs": [
    {
     "data": {
      "text/plain": "\u001B[94m(0.569, 0.954, 0.517, 0.759, 0.679)\u001B[0m along \u001B[92mxˢ\u001B[0m"
     },
     "execution_count": 4,
     "metadata": {},
     "output_type": "execute_result"
    }
   ],
   "source": [
    "neighbor_mean(grid_1d)"
   ],
   "metadata": {
    "collapsed": false,
    "pycharm": {
     "name": "#%%\n"
    }
   }
  },
  {
   "cell_type": "code",
   "execution_count": 5,
   "outputs": [
    {
     "data": {
      "text/plain": "\u001B[92m(xˢ=3, yˢ=3)\u001B[0m \u001B[94m0.384 ± 0.085\u001B[0m \u001B[37m(3e-01...5e-01)\u001B[0m"
     },
     "execution_count": 5,
     "metadata": {},
     "output_type": "execute_result"
    }
   ],
   "source": [
    "neighbor_mean(grid_2d)"
   ],
   "metadata": {
    "collapsed": false,
    "pycharm": {
     "name": "#%%\n"
    }
   }
  },
  {
   "cell_type": "code",
   "execution_count": 6,
   "outputs": [
    {
     "data": {
      "text/plain": "\u001B[92m(xˢ=16, yˢ=16, zˢ=16)\u001B[0m \u001B[94m0.502 ± 0.116\u001B[0m \u001B[37m(1e-01...9e-01)\u001B[0m"
     },
     "execution_count": 6,
     "metadata": {},
     "output_type": "execute_result"
    }
   ],
   "source": [
    "neighbor_mean(grid_3d)"
   ],
   "metadata": {
    "collapsed": false,
    "pycharm": {
     "name": "#%%\n"
    }
   }
  },
  {
   "cell_type": "markdown",
   "source": [
    "To make sure that the stencil is correct, we can look at the [matrix representation](Matrices.html) of our function."
   ],
   "metadata": {
    "collapsed": false,
    "pycharm": {
     "name": "#%% md\n"
    }
   }
  },
  {
   "cell_type": "code",
   "execution_count": 7,
   "outputs": [
    {
     "name": "stdout",
     "output_type": "stream",
     "text": [
      "\u001B[92mx=0\u001B[0m    \u001B[94m 0.   0.5  0.   0.   0.5 \u001B[0m along \u001B[92m~x\u001B[0m\n",
      "\u001B[92mx=1\u001B[0m    \u001B[94m 0.5  0.   0.5  0.   0.  \u001B[0m along \u001B[92m~x\u001B[0m\n",
      "\u001B[92mx=2\u001B[0m    \u001B[94m 0.   0.5  0.   0.5  0.  \u001B[0m along \u001B[92m~x\u001B[0m\n",
      "\u001B[92mx=3\u001B[0m    \u001B[94m 0.   0.   0.5  0.   0.5 \u001B[0m along \u001B[92m~x\u001B[0m\n",
      "\u001B[92mx=4\u001B[0m    \u001B[94m 0.5  0.   0.   0.5  0.  \u001B[0m along \u001B[92m~x\u001B[0m\n"
     ]
    }
   ],
   "source": [
    "math.print(math.matrix_from_function(neighbor_mean, grid_1d)[0])"
   ],
   "metadata": {
    "collapsed": false,
    "pycharm": {
     "name": "#%%\n"
    }
   }
  },
  {
   "cell_type": "code",
   "execution_count": 8,
   "outputs": [
    {
     "name": "stdout",
     "output_type": "stream",
     "text": [
      "\u001B[92mx&y=0\u001B[0m    \u001B[94m 0.    0.25  0.25  0.25  0.    0.    0.25  0.    0.   \u001B[0m along \u001B[92m~x&~y\u001B[0m\n",
      "\u001B[92mx&y=1\u001B[0m    \u001B[94m 0.25  0.    0.25  0.    0.25  0.    0.    0.25  0.   \u001B[0m along \u001B[92m~x&~y\u001B[0m\n",
      "\u001B[92mx&y=2\u001B[0m    \u001B[94m 0.25  0.25  0.    0.    0.    0.25  0.    0.    0.25 \u001B[0m along \u001B[92m~x&~y\u001B[0m\n",
      "\u001B[92mx&y=3\u001B[0m    \u001B[94m 0.25  0.    0.    0.    0.25  0.25  0.25  0.    0.   \u001B[0m along \u001B[92m~x&~y\u001B[0m\n",
      "\u001B[92mx&y=4\u001B[0m    \u001B[94m 0.    0.25  0.    0.25  0.    0.25  0.    0.25  0.   \u001B[0m along \u001B[92m~x&~y\u001B[0m\n",
      "\u001B[92mx&y=5\u001B[0m    \u001B[94m 0.    0.    0.25  0.25  0.25  0.    0.    0.    0.25 \u001B[0m along \u001B[92m~x&~y\u001B[0m\n",
      "\u001B[92mx&y=6\u001B[0m    \u001B[94m 0.25  0.    0.    0.25  0.    0.    0.    0.25  0.25 \u001B[0m along \u001B[92m~x&~y\u001B[0m\n",
      "\u001B[92mx&y=7\u001B[0m    \u001B[94m 0.    0.25  0.    0.    0.25  0.    0.25  0.    0.25 \u001B[0m along \u001B[92m~x&~y\u001B[0m\n",
      "\u001B[92mx&y=8\u001B[0m    \u001B[94m 0.    0.    0.25  0.    0.    0.25  0.25  0.25  0.   \u001B[0m along \u001B[92m~x&~y\u001B[0m\n"
     ]
    }
   ],
   "source": [
    "math.print(math.matrix_from_function(neighbor_mean, grid_2d)[0])"
   ],
   "metadata": {
    "collapsed": false,
    "pycharm": {
     "name": "#%%\n"
    }
   }
  },
  {
   "cell_type": "markdown",
   "source": [
    "The same principle holds for all grid functions in the `ml4s.math` library.\n",
    "For example, if we perform a Fourier transform, the algorithm will be selected based on the number of spatial dimensions.\n",
    "A 1D FFT will always be performed on our 1D grid, even if we add additional non-spatial dimensions."
   ],
   "metadata": {
    "collapsed": false,
    "pycharm": {
     "name": "#%% md\n"
    }
   }
  },
  {
   "cell_type": "code",
   "execution_count": 11,
   "outputs": [
    {
     "data": {
      "text/plain": "\u001B[94m((3.4769058+0j), (0.13400637-0.38783944j), (0.44312537+0.4848501j), (0.44312537-0.4848501j), (0.13400637+0.38783944j))\u001B[0m along \u001B[92mxˢ\u001B[0m \u001B[93mcomplex64\u001B[0m"
     },
     "execution_count": 11,
     "metadata": {},
     "output_type": "execute_result"
    }
   ],
   "source": [
    "math.fft(grid_1d)  # 1D FFT"
   ],
   "metadata": {
    "collapsed": false,
    "pycharm": {
     "name": "#%%\n"
    }
   }
  },
  {
   "cell_type": "code",
   "execution_count": 12,
   "outputs": [
    {
     "data": {
      "text/plain": "\u001B[92m(xˢ=3, yˢ=3)\u001B[0m \u001B[93mcomplex64\u001B[0m \u001B[94m|...| < 3.4559051990509033\u001B[0m"
     },
     "execution_count": 12,
     "metadata": {},
     "output_type": "execute_result"
    }
   ],
   "source": [
    "math.fft(grid_2d)  # 2D FFT"
   ],
   "metadata": {
    "collapsed": false,
    "pycharm": {
     "name": "#%%\n"
    }
   }
  },
  {
   "cell_type": "code",
   "execution_count": 13,
   "outputs": [
    {
     "data": {
      "text/plain": "\u001B[92m(xˢ=16, yˢ=16, zˢ=16)\u001B[0m \u001B[93mcomplex64\u001B[0m \u001B[94m|...| < 2057.66064453125\u001B[0m"
     },
     "execution_count": 13,
     "metadata": {},
     "output_type": "execute_result"
    }
   ],
   "source": [
    "math.fft(grid_3d)  # 3D FFT"
   ],
   "metadata": {
    "collapsed": false,
    "pycharm": {
     "name": "#%%\n"
    }
   }
  },
  {
   "cell_type": "markdown",
   "source": [
    "## Dimensions as Components\n",
    "\n",
    "Not all applications involving physical space use grids to represent data.\n",
    "Take point clouds or particles for instance.\n",
    "In these cases, we would represent the dimensionality not by the number of spatial dimensions but by the number of vector components."
   ],
   "metadata": {
    "collapsed": false,
    "pycharm": {
     "name": "#%% md\n"
    }
   }
  },
  {
   "cell_type": "code",
   "execution_count": 17,
   "outputs": [],
   "source": [
    "points_1d = math.random_uniform(instance(points=4), channel(vector='x'))\n",
    "points_2d = math.random_uniform(instance(points=4), channel(vector='x,y'))\n",
    "points_3d = math.random_uniform(instance(points=4), channel(vector='x,y,z'))"
   ],
   "metadata": {
    "collapsed": false,
    "pycharm": {
     "name": "#%%\n"
    }
   }
  },
  {
   "cell_type": "markdown",
   "source": [
    "In these cases, the generalization to *n* dimensions is usually trivial.\n",
    "Take the following function that computes the pairwise distances."
   ],
   "metadata": {
    "collapsed": false,
    "pycharm": {
     "name": "#%% md\n"
    }
   }
  },
  {
   "cell_type": "code",
   "execution_count": 22,
   "outputs": [],
   "source": [
    "def pairwise_distances(x):\n",
    "    return math.vec_length(math.rename_dims(x, 'points', 'others') - x)"
   ],
   "metadata": {
    "collapsed": false,
    "pycharm": {
     "name": "#%%\n"
    }
   }
  },
  {
   "cell_type": "markdown",
   "source": [
    "Here, we compute the distances between each pair of particles on a matrix with dimensions `points` and `others`.\n",
    "The intermediate matrix of position distances inherits the vector dimension from `x` and [`math.vec_length()`](ml4s/math#ml4s.math.vec_length) sums all components.\n",
    "Consequently, this function computes the correct distances in 1D, 2D and 3D."
   ],
   "metadata": {
    "collapsed": false,
    "pycharm": {
     "name": "#%% md\n"
    }
   }
  },
  {
   "cell_type": "code",
   "execution_count": 23,
   "outputs": [
    {
     "data": {
      "text/plain": "\u001B[92m(othersⁱ=4, pointsⁱ=4)\u001B[0m \u001B[94m0.219 ± 0.179\u001B[0m \u001B[37m(0e+00...5e-01)\u001B[0m"
     },
     "execution_count": 23,
     "metadata": {},
     "output_type": "execute_result"
    }
   ],
   "source": [
    "pairwise_distances(points_1d)"
   ],
   "metadata": {
    "collapsed": false,
    "pycharm": {
     "name": "#%%\n"
    }
   }
  },
  {
   "cell_type": "code",
   "execution_count": 24,
   "outputs": [
    {
     "data": {
      "text/plain": "\u001B[92m(othersⁱ=4, pointsⁱ=4)\u001B[0m \u001B[94m0.330 ± 0.219\u001B[0m \u001B[37m(0e+00...6e-01)\u001B[0m"
     },
     "execution_count": 24,
     "metadata": {},
     "output_type": "execute_result"
    }
   ],
   "source": [
    "pairwise_distances(points_2d)"
   ],
   "metadata": {
    "collapsed": false,
    "pycharm": {
     "name": "#%%\n"
    }
   }
  },
  {
   "cell_type": "code",
   "execution_count": 25,
   "outputs": [
    {
     "data": {
      "text/plain": "\u001B[92m(othersⁱ=4, pointsⁱ=4)\u001B[0m \u001B[94m0.375 ± 0.281\u001B[0m \u001B[37m(0e+00...8e-01)\u001B[0m"
     },
     "execution_count": 25,
     "metadata": {},
     "output_type": "execute_result"
    }
   ],
   "source": [
    "pairwise_distances(points_3d)"
   ],
   "metadata": {
    "collapsed": false,
    "pycharm": {
     "name": "#%%\n"
    }
   }
  },
  {
   "cell_type": "markdown",
   "source": [
    "## Further Reading\n",
    "\n",
    "Here, we focussed on spatial dimensions, but each [dimension type](Shapes.html) plays a unique role in ML4Science.\n",
    "\n",
    "The library [Φ<sub>Flow</sub>](https://github.com/tum-pbs/PhiFlow) uses ML4Science to implement an *n*-dimensional incompressible fluid solver.\n",
    "\n",
    "[🌐 **ML4Science**](https://github.com/tum-pbs/ML4Science)\n",
    "&nbsp; • &nbsp; [📖 **Documentation**](https://tum-pbs.github.io/ML4Science/)\n",
    "&nbsp; • &nbsp; [🔗 **API**](https://tum-pbs.github.io/ML4Science/ml4s)\n",
    "&nbsp; • &nbsp; [**▶ Videos**]()\n",
    "&nbsp; • &nbsp; [<img src=\"images/colab_logo_small.png\" height=4>](https://colab.research.google.com/github/tum-pbs/ML4Science/blob/main/docs/Examples.ipynb) [**Examples**](https://tum-pbs.github.io/ML4Science/Examples.html)"
   ],
   "metadata": {
    "collapsed": false,
    "pycharm": {
     "name": "#%% md\n"
    }
   }
  }
 ],
 "metadata": {
  "kernelspec": {
   "display_name": "Python 3",
   "language": "python",
   "name": "python3"
  },
  "language_info": {
   "codemirror_mode": {
    "name": "ipython",
    "version": 2
   },
   "file_extension": ".py",
   "mimetype": "text/x-python",
   "name": "python",
   "nbconvert_exporter": "python",
   "pygments_lexer": "ipython2",
   "version": "2.7.6"
  }
 },
 "nbformat": 4,
 "nbformat_minor": 0
}