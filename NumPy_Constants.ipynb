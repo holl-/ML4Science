{
 "cells": [
  {
   "cell_type": "markdown",
   "source": [
    "# NumPy and Constants\n",
    "\n",
    "[![Colab](https://colab.research.google.com/assets/colab-badge.svg)](https://colab.research.google.com/github/holl-/UnifyML/blob/main/docs/NumPy_Constants.ipynb)\n",
    "&nbsp; • &nbsp; [🌐 **UnifyML**](https://github.com/holl-/UnifyML)\n",
    "&nbsp; • &nbsp; [📖 **Documentation**](https://holl-.github.io/UnifyML/)\n",
    "&nbsp; • &nbsp; [🔗 **API**](https://holl-.github.io/UnifyML/unifyml)\n",
    "&nbsp; • &nbsp; [**▶ Videos**]()\n",
    "&nbsp; • &nbsp; [<img src=\"images/colab_logo_small.png\" height=4>](https://colab.research.google.com/github/holl-/UnifyML/blob/main/docs/Examples.ipynb) [**Examples**](https://holl-.github.io/UnifyML/Examples.html)"
   ],
   "metadata": {
    "collapsed": false,
    "pycharm": {
     "name": "#%% md\n"
    }
   }
  },
  {
   "cell_type": "code",
   "execution_count": 1,
   "outputs": [],
   "source": [
    "from unifyml import math"
   ],
   "metadata": {
    "collapsed": false,
    "pycharm": {
     "name": "#%%\n"
    }
   }
  },
  {
   "cell_type": "markdown",
   "source": [
    "When you create a new Tensor in UnifyML without specifying what backend to use, it will create a NumPy tensor.\n",
    "You can check the corresponding backend for a `Tensor` using `.default_backend`."
   ],
   "metadata": {
    "collapsed": false,
    "pycharm": {
     "name": "#%% md\n"
    }
   }
  },
  {
   "cell_type": "code",
   "execution_count": 2,
   "outputs": [
    {
     "data": {
      "text/plain": "numpy"
     },
     "execution_count": 2,
     "metadata": {},
     "output_type": "execute_result"
    }
   ],
   "source": [
    "math.random_uniform().default_backend"
   ],
   "metadata": {
    "collapsed": false,
    "pycharm": {
     "name": "#%%\n"
    }
   }
  },
  {
   "cell_type": "markdown",
   "source": [
    "The same is true if you `wrap` a NumPy array."
   ],
   "metadata": {
    "collapsed": false,
    "pycharm": {
     "name": "#%% md\n"
    }
   }
  },
  {
   "cell_type": "code",
   "execution_count": 3,
   "outputs": [
    {
     "data": {
      "text/plain": "numpy"
     },
     "execution_count": 3,
     "metadata": {},
     "output_type": "execute_result"
    }
   ],
   "source": [
    "import numpy\n",
    "math.wrap(numpy.asarray([0, 1, 2])).default_backend"
   ],
   "metadata": {
    "collapsed": false,
    "pycharm": {
     "name": "#%%\n"
    }
   }
  },
  {
   "cell_type": "markdown",
   "source": [
    "Tensors backed by NumPy are not differentiable, only run on the CPU, and functions acting on NumPy tensors cannot be JIT-compiled.\n",
    "So why would you ever want to use NumPy?"
   ],
   "metadata": {
    "collapsed": false,
    "pycharm": {
     "name": "#%% md\n"
    }
   }
  },
  {
   "cell_type": "markdown",
   "source": [
    "## Constants\n",
    "\n",
    "Put simply, tensors backed by NumPy represent constants in your computational graph.\n",
    "If you JIT-compile a function and call it with PyTorch tensors, all recorded PyTorch calls will be executed each time.\n",
    "All NumPy calls, however, will only be executed during tracing and never again (unless the function needs to be re-traced).\n",
    "\n",
    "Here's an example:\n",
    "\n",
    "\n",
    "Constant matrices will be NumPy\n",
    "\n",
    "Sparsity pattern, Preconditioners will be computed at JIT time"
   ],
   "metadata": {
    "collapsed": false,
    "pycharm": {
     "name": "#%% md\n"
    }
   }
  },
  {
   "cell_type": "code",
   "execution_count": 4,
   "outputs": [],
   "source": [
    "math.use('torch')\n",
    "\n",
    "@math.jit_compile(auxiliary_args='y')\n",
    "def unrolled_loop(x, y):\n",
    "    print(f\"Tracing with x={x} and y={y}\")\n",
    "    for i in range(100):\n",
    "        x = math.where(x % 2 == 0, x // 2, x * 3 + 1)\n",
    "        y = math.where(y % 2 == 0, y // 2, y * 3 + 1)"
   ],
   "metadata": {
    "collapsed": false,
    "pycharm": {
     "name": "#%%\n"
    }
   }
  },
  {
   "cell_type": "code",
   "execution_count": null,
   "outputs": [],
   "source": [],
   "metadata": {
    "collapsed": false,
    "pycharm": {
     "name": "#%%\n"
    }
   }
  }
 ],
 "metadata": {
  "kernelspec": {
   "display_name": "Python 3",
   "language": "python",
   "name": "python3"
  },
  "language_info": {
   "codemirror_mode": {
    "name": "ipython",
    "version": 2
   },
   "file_extension": ".py",
   "mimetype": "text/x-python",
   "name": "python",
   "nbconvert_exporter": "python",
   "pygments_lexer": "ipython2",
   "version": "2.7.6"
  }
 },
 "nbformat": 4,
 "nbformat_minor": 0
}