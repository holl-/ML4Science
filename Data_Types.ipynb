{
 "cells": [
  {
   "cell_type": "markdown",
   "source": [
    "# Data Types in UnifyML\n",
    "\n",
    "[![Colab](https://colab.research.google.com/assets/colab-badge.svg)](https://colab.research.google.com/github/holl-/UnifyML/blob/main/docs/Data_Types.ipynb)\n",
    "&nbsp; • &nbsp; [🌐 **UnifyML**](https://github.com/holl-/UnifyML)\n",
    "&nbsp; • &nbsp; [📖 **Documentation**](https://holl-.github.io/UnifyML/)\n",
    "&nbsp; • &nbsp; [🔗 **API**](https://holl-.github.io/UnifyML/unifyml)\n",
    "&nbsp; • &nbsp; [**▶ Videos**]()\n",
    "&nbsp; • &nbsp; [<img src=\"images/colab_logo_small.png\" height=4>](https://colab.research.google.com/github/holl-/UnifyML/blob/main/docs/Examples.ipynb) [**Examples**](https://holl-.github.io/UnifyML/Examples.html)\n",
    "*Need to differentiate but your input is an `int` tensor?\n",
    "Need an `int64` tensor but got `int32`?\n",
    "Need a `tensor` but got an `ndarray`?\n",
    "Want an `ndarray` but your tensor is bound in a computational graph on the GPU?\n",
    "Worry no longer for UnifyML has you covered!*"
   ],
   "metadata": {
    "collapsed": false,
    "pycharm": {
     "name": "#%% md\n"
    }
   }
  },
  {
   "cell_type": "code",
   "execution_count": null,
   "outputs": [],
   "source": [],
   "metadata": {
    "collapsed": false,
    "pycharm": {
     "name": "#%%\n"
    }
   }
  },
  {
   "cell_type": "markdown",
   "source": [
    "## Data Types and Precision\n",
    "\n",
    "The package `phi.math` provides a custom [`DataType` class](phi/math/#phi.math.DType) that can be used with all backends.\n",
    "There are no global variables for common data types; instead you can create one by specifying the kind and length in bits."
   ],
   "metadata": {
    "collapsed": false,
    "pycharm": {
     "name": "#%% md\n"
    }
   }
  },
  {
   "cell_type": "code",
   "execution_count": 42,
   "outputs": [],
   "source": [
    "from phi.math import DType"
   ],
   "metadata": {
    "collapsed": false,
    "pycharm": {
     "name": "#%%\n"
    }
   }
  },
  {
   "cell_type": "code",
   "execution_count": 43,
   "outputs": [
    {
     "data": {
      "text/plain": "float32"
     },
     "execution_count": 43,
     "metadata": {},
     "output_type": "execute_result"
    }
   ],
   "source": [
    "DType(float, 32)"
   ],
   "metadata": {
    "collapsed": false,
    "pycharm": {
     "name": "#%%\n"
    }
   }
  },
  {
   "cell_type": "code",
   "execution_count": 44,
   "outputs": [
    {
     "data": {
      "text/plain": "complex128"
     },
     "execution_count": 44,
     "metadata": {},
     "output_type": "execute_result"
    }
   ],
   "source": [
    "DType(complex, 128)"
   ],
   "metadata": {
    "collapsed": false,
    "pycharm": {
     "name": "#%%\n"
    }
   }
  },
  {
   "cell_type": "code",
   "execution_count": 45,
   "outputs": [
    {
     "data": {
      "text/plain": "bool8"
     },
     "execution_count": 45,
     "metadata": {},
     "output_type": "execute_result"
    }
   ],
   "source": [
    "DType(bool)"
   ],
   "metadata": {
    "collapsed": false,
    "pycharm": {
     "name": "#%%\n"
    }
   }
  },
  {
   "cell_type": "markdown",
   "source": [
    "By default, floating point operations use 32 bit (single precision). This can be changed globally using [`math.set_global_precision(64)`](phi/math/#phi.math.set_global_precision) or locally using [`with math.precision(64):`](phi/math/#phi.math.precision).\n",
    "\n",
    "This setting does not affect integers. To specify the number of integer bits, use [`math.to_int()`](phi/math/#phi.math.to_int) or cast the data type directly using [`math.cast()`](phi/math/#phi.math.cast)."
   ],
   "metadata": {
    "collapsed": false,
    "pycharm": {
     "name": "#%% md\n"
    }
   }
  }
 ],
 "metadata": {
  "kernelspec": {
   "display_name": "Python 3",
   "language": "python",
   "name": "python3"
  },
  "language_info": {
   "codemirror_mode": {
    "name": "ipython",
    "version": 2
   },
   "file_extension": ".py",
   "mimetype": "text/x-python",
   "name": "python",
   "nbconvert_exporter": "python",
   "pygments_lexer": "ipython2",
   "version": "2.7.6"
  }
 },
 "nbformat": 4,
 "nbformat_minor": 0
}