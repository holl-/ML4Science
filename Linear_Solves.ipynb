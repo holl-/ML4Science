{
 "cells": [
  {
   "cell_type": "markdown",
   "source": [
    "# Linear Solves in UnifyML\n",
    "\n",
    "[![Colab](https://colab.research.google.com/assets/colab-badge.svg)](https://colab.research.google.com/github/holl-/UnifyML/blob/main/docs/Linear_Solves.ipynb)\n",
    "&nbsp; • &nbsp; [🌐 **UnifyML**](https://github.com/holl-/UnifyML)\n",
    "&nbsp; • &nbsp; [📖 **Documentation**](https://holl-.github.io/UnifyML/)\n",
    "&nbsp; • &nbsp; [🔗 **API**](https://holl-.github.io/UnifyML/unifyml)\n",
    "&nbsp; • &nbsp; [**▶ Videos**]()\n",
    "&nbsp; • &nbsp; [<img src=\"images/colab_logo_small.png\" height=4>](https://colab.research.google.com/github/holl-/UnifyML/blob/main/docs/Examples.ipynb) [**Examples**](https://holl-.github.io/UnifyML/Examples.html)\n",
    "\n",
    "Linear solves are a vital part in many simulations and machine learning applications.\n",
    "UnifyML provides an easy-to-use interface for performing linear solves that supports backpropagation via implicit gradients.\n",
    "Dense, sparse, and matrix-free linear systems can be solved this way.\n"
   ],
   "metadata": {
    "collapsed": false,
    "pycharm": {
     "name": "#%% md\n"
    }
   }
  },
  {
   "cell_type": "code",
   "execution_count": 1,
   "outputs": [],
   "source": [
    "%%capture\n",
    "!pip install unifyml"
   ],
   "metadata": {
    "collapsed": false,
    "pycharm": {
     "name": "#%%\n"
    }
   }
  },
  {
   "cell_type": "code",
   "execution_count": 10,
   "outputs": [],
   "source": [
    "from unifyml import math\n",
    "from unifyml.math import wrap, channel, dual, Solve, const_vec"
   ],
   "metadata": {
    "collapsed": false,
    "pycharm": {
     "name": "#%%\n"
    }
   }
  },
  {
   "cell_type": "markdown",
   "source": [
    "Linear solves and sparse matrices are supported on all backends.\n",
    "Feel free to choose the below line to use `jax`, `tensorflow` or `numpy` instead."
   ],
   "metadata": {
    "collapsed": false,
    "pycharm": {
     "name": "#%% md\n"
    }
   }
  },
  {
   "cell_type": "code",
   "execution_count": 17,
   "outputs": [
    {
     "data": {
      "text/plain": "torch"
     },
     "execution_count": 17,
     "metadata": {},
     "output_type": "execute_result"
    }
   ],
   "source": [
    "math.use('torch')"
   ],
   "metadata": {
    "collapsed": false,
    "pycharm": {
     "name": "#%%\n"
    }
   }
  },
  {
   "cell_type": "markdown",
   "source": [
    "We can perform a linear solve by passing a matrix `A`, right-hand-side vector `b` and initial guess `x0` to [`solve_linear()`](unifyml/math/#unifyml.math.solve_linear).\n",
    "The [dual dimensions of the matrix](Matrices.html#Primal-and-Dual-Dimensions) must match the initial guess and the primal dimensions must match the right-hand-side."
   ],
   "metadata": {
    "collapsed": false,
    "pycharm": {
     "name": "#%% md\n"
    }
   }
  },
  {
   "cell_type": "code",
   "execution_count": 18,
   "outputs": [
    {
     "data": {
      "text/plain": "\u001B[94m(3.000, 2.000)\u001B[0m along \u001B[92mb_vecᶜ\u001B[0m"
     },
     "execution_count": 18,
     "metadata": {},
     "output_type": "execute_result"
    }
   ],
   "source": [
    "A = wrap([[0, 1], [1, 0]], channel('b_vec'), dual('x_vec'))\n",
    "b = wrap([2, 3], channel('b_vec'))\n",
    "x0 = wrap([0, 0], channel('x_vec'))\n",
    "math.solve_linear(A, b, Solve(x0=x0))"
   ],
   "metadata": {
    "collapsed": false,
    "pycharm": {
     "name": "#%%\n"
    }
   }
  },
  {
   "cell_type": "markdown",
   "source": [
    "UnifyML implements multiple algorithms to solve linear systems, such as the conjugate gradient method (`CG`) and the stabilized bi-conjugate gradient method (`biCG`).\n",
    "All SciPy solvers are also available.\n",
    "For a full list, see [here](unifyml/math/#unifyml.math.solve_linear)."
   ],
   "metadata": {
    "collapsed": false,
    "pycharm": {
     "name": "#%% md\n"
    }
   }
  },
  {
   "cell_type": "code",
   "execution_count": 24,
   "outputs": [
    {
     "data": {
      "text/plain": "\u001B[94m(3.000, 2.000)\u001B[0m along \u001B[92mb_vecᶜ\u001B[0m"
     },
     "execution_count": 24,
     "metadata": {},
     "output_type": "execute_result"
    }
   ],
   "source": [
    "math.solve_linear(A, b, Solve('CG', x0=x0))"
   ],
   "metadata": {
    "collapsed": false,
    "pycharm": {
     "name": "#%%\n"
    }
   }
  },
  {
   "cell_type": "code",
   "execution_count": 25,
   "outputs": [
    {
     "data": {
      "text/plain": "\u001B[94m(3.000, 2.000)\u001B[0m along \u001B[92mb_vecᶜ\u001B[0m"
     },
     "execution_count": 25,
     "metadata": {},
     "output_type": "execute_result"
    }
   ],
   "source": [
    "math.solve_linear(A, b, Solve('biCG-stab', x0=x0))"
   ],
   "metadata": {
    "collapsed": false,
    "pycharm": {
     "name": "#%%\n"
    }
   }
  },
  {
   "cell_type": "code",
   "execution_count": 28,
   "outputs": [
    {
     "data": {
      "text/plain": "\u001B[94m(3.000, 2.000)\u001B[0m along \u001B[92mb_vecᶜ\u001B[0m"
     },
     "execution_count": 28,
     "metadata": {},
     "output_type": "execute_result"
    }
   ],
   "source": [
    "math.solve_linear(A, b, Solve('scipy-GMres', x0=x0))"
   ],
   "metadata": {
    "collapsed": false,
    "pycharm": {
     "name": "#%%\n"
    }
   }
  },
  {
   "cell_type": "markdown",
   "source": [
    "## Matrix-free Solves\n",
    "\n",
    "Instead of passing a matrix, you can also specify a linear Python function that computes the matrix-vector product.\n",
    "This will typically be slower unless the function is compiled to a matrix."
   ],
   "metadata": {
    "collapsed": false,
    "pycharm": {
     "name": "#%% md\n"
    }
   }
  },
  {
   "cell_type": "code",
   "execution_count": 21,
   "outputs": [
    {
     "data": {
      "text/plain": "\u001B[94m(1.000, 3.000)\u001B[0m along \u001B[92mb_vecᶜ\u001B[0m"
     },
     "execution_count": 21,
     "metadata": {},
     "output_type": "execute_result"
    }
   ],
   "source": [
    "def linear_function(x):\n",
    "    return x * (2, 1)\n",
    "\n",
    "math.solve_linear(linear_function, b, Solve(x0=x0))"
   ],
   "metadata": {
    "collapsed": false,
    "pycharm": {
     "name": "#%%\n"
    }
   }
  },
  {
   "cell_type": "markdown",
   "source": [
    "## Explicit Matrices from Python Functions\n",
    "\n",
    "UnifyML can also [build an explicit matrix representation](Matrices.html#Building-Matrices-from-Linear-Functions) of the provided Python function.\n",
    "You can do this either by explicitly obtaining the matrix first using [`matrix_from_function`](unifyml/math#unifyml.math.matrix_from_function) or by annotating the linear function with\n",
    "[`jit_compile_linear`](unifyml/math#unifyml.math.jit_compile_linear).\n",
    "If the function adds a constant offset to the output, this will automatically be subtracted from the right-hand-side vector."
   ],
   "metadata": {
    "collapsed": false,
    "pycharm": {
     "name": "#%% md\n"
    }
   }
  },
  {
   "cell_type": "code",
   "execution_count": 23,
   "outputs": [
    {
     "data": {
      "text/plain": "\u001B[94m(1.000, 2.000, 1.500, 3.000)\u001B[0m \u001B[92m(b_vecᶜ=2, x_vecᶜ=2)\u001B[0m"
     },
     "execution_count": 23,
     "metadata": {},
     "output_type": "execute_result"
    }
   ],
   "source": [
    "from unifyml.math import jit_compile_linear\n",
    "\n",
    "math.solve_linear(jit_compile_linear(linear_function), b, Solve(x0=x0))"
   ],
   "metadata": {
    "collapsed": false,
    "pycharm": {
     "name": "#%%\n"
    }
   }
  },
  {
   "cell_type": "markdown",
   "source": [
    "## Preconditioned Linear Solves\n",
    "\n",
    "Preconditioner at jit time if matrix NumPy\n",
    "[](Matrices.html#Building-Matrices-from-Linear-Functions))\n",
    "[](NumPy_Constants.html)"
   ],
   "metadata": {
    "collapsed": false,
    "pycharm": {
     "name": "#%% md\n"
    }
   }
  },
  {
   "cell_type": "markdown",
   "source": [
    "## Implicit Differentiation"
   ],
   "metadata": {
    "collapsed": false,
    "pycharm": {
     "name": "#%% md\n"
    }
   }
  },
  {
   "cell_type": "markdown",
   "source": [
    "## Matrix Gradients\n",
    "\n",
    "UnifyML can also compute gradients for the (sparse) matrix used in a linear solve, which allows differentiating w.r.t. parameters that influenced the matrix values via backpropagation.\n"
   ],
   "metadata": {
    "collapsed": false,
    "pycharm": {
     "name": "#%% md\n"
    }
   }
  },
  {
   "cell_type": "markdown",
   "source": [
    "## Obtaining Additional Information about a Solve\n",
    "\n",
    "`SolveTape`"
   ],
   "metadata": {
    "collapsed": false,
    "pycharm": {
     "name": "#%% md\n"
    }
   }
  },
  {
   "cell_type": "markdown",
   "source": [
    "## Further Reading\n",
    "\n",
    "We will upload a whitepaper to the ArXiv shortly, describing the implemented algorithms.\n",
    "\n",
    "&nbsp; • &nbsp; [🌐 **UnifyML**](https://github.com/holl-/UnifyML)\n",
    "&nbsp; • &nbsp; [📖 **Documentation**](https://holl-.github.io/UnifyML/)\n",
    "&nbsp; • &nbsp; [🔗 **API**](https://holl-.github.io/UnifyML/unifyml)\n",
    "&nbsp; • &nbsp; [**▶ Videos**]()\n",
    "&nbsp; • &nbsp; [<img src=\"images/colab_logo_small.png\" height=4>](https://colab.research.google.com/github/holl-/UnifyML/blob/main/docs/Examples.ipynb) [**Examples**](https://holl-.github.io/UnifyML/Examples.html)"
   ],
   "metadata": {
    "collapsed": false,
    "pycharm": {
     "name": "#%% md\n"
    }
   }
  }
 ],
 "metadata": {
  "kernelspec": {
   "display_name": "Python 3",
   "language": "python",
   "name": "python3"
  },
  "language_info": {
   "codemirror_mode": {
    "name": "ipython",
    "version": 2
   },
   "file_extension": ".py",
   "mimetype": "text/x-python",
   "name": "python",
   "nbconvert_exporter": "python",
   "pygments_lexer": "ipython2",
   "version": "2.7.6"
  }
 },
 "nbformat": 4,
 "nbformat_minor": 0
}