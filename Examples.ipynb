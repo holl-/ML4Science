{
 "cells": [
  {
   "cell_type": "markdown",
   "source": [
    "# ML4Science Examples\n",
    "\n",
    "[![Colab](https://colab.research.google.com/assets/colab-badge.svg)](https://colab.research.google.com/github/holl-/ML4Science/blob/main/docs/Examples.ipynb)\n",
    "&nbsp; • &nbsp; [🌐 **ML4Science**](https://github.com/holl-/ML4Science)\n",
    "&nbsp; • &nbsp; [📖 **Documentation**](https://holl-.github.io/ML4Science/)\n",
    "&nbsp; • &nbsp; [🔗 **API**](https://holl-.github.io/ML4Science/ml4s)\n",
    "&nbsp; • &nbsp; [**▶ Videos**]()\n",
    "\n",
    "All examples listed in this notebook can be run with any of the three supported ML backends: `jax`, `torch` and `tensorflow`.\n",
    "You can select your preferred one by changing the below `math.use()` call."
   ],
   "metadata": {
    "collapsed": false,
    "pycharm": {
     "name": "#%% md\n"
    }
   },
   "execution_count": 1
  },
  {
   "cell_type": "code",
   "execution_count": null,
   "outputs": [],
   "source": [
    "# !pip install ml4s\n",
    "from ml4s import math, nn\n",
    "math.use('torch')"
   ],
   "metadata": {
    "collapsed": false,
    "pycharm": {
     "name": "#%%\n"
    }
   }
  },
  {
   "cell_type": "markdown",
   "source": [
    "### Training an MLP\n",
    "\n",
    "The following script trains an [MLP](https://holl-.github.io/ML4Science/ml4s/nn#ml4s.nn.mlp) with three hidden layers to learn a noisy 1D sine function in the range [-2, 2]."
   ],
   "metadata": {
    "collapsed": false,
    "pycharm": {
     "name": "#%% md\n"
    }
   }
  },
  {
   "cell_type": "code",
   "execution_count": null,
   "outputs": [],
   "source": [
    "net = nn.mlp(1, 1, layers=[128, 128, 128], activation='ReLU')\n",
    "optimizer = nn.adam(net, learning_rate=1e-3)\n",
    "\n",
    "data_x = math.random_uniform(math.batch(batch=128), low=-2, high=2)\n",
    "data_y = math.sin(data_x) + math.random_normal(math.batch(batch=128)) * .2\n",
    "\n",
    "def loss_function(x, y):\n",
    "    return math.l2_loss(y - math.native_call(net, x))\n",
    "\n",
    "for i in range(100):\n",
    "    loss = nn.update_weights(net, optimizer, loss_function, data_x, data_y)\n",
    "    print(loss)"
   ],
   "metadata": {
    "collapsed": false,
    "pycharm": {
     "name": "#%%\n"
    }
   }
  },
  {
   "cell_type": "markdown",
   "source": [
    "We didn't even have to import `torch` in this example since all calls were routed through ML4Science."
   ],
   "metadata": {
    "collapsed": false,
    "pycharm": {
     "name": "#%% md\n"
    }
   }
  },
  {
   "cell_type": "markdown",
   "source": [
    "### Pairwise Distances\n",
    "\n",
    "The following function takes a (possibly batched) tensor of positions and computes the distance matrix."
   ],
   "metadata": {
    "collapsed": false,
    "pycharm": {
     "name": "#%% md\n"
    }
   }
  },
  {
   "cell_type": "code",
   "execution_count": null,
   "outputs": [],
   "source": [
    "from ml4s import math  # uses NumPy by default\n",
    "\n",
    "def pairwise_distances(x: math.Tensor):\n",
    "    dx = math.rename_dims(x, 'points', 'others') - x\n",
    "    return math.vec_length(dx)\n",
    "\n",
    "x = math.random_normal(math.instance(points=3), math.channel(vector=\"x,y\"))\n",
    "math.print(pairwise_distances(x))"
   ],
   "metadata": {
    "collapsed": false,
    "pycharm": {
     "name": "#%%\n"
    }
   }
  },
  {
   "cell_type": "markdown",
   "source": [
    "Inside `pairwise_distances`, we rename 'points' to 'others'.\n",
    "When taking the difference, ML4Science automatically expands both operands by the missing dimensions, adding 'points' to the first argument and 'others' to the second.\n",
    "An explanation of this automatic reshaping is given [here](https://holl-.github.io/ML4Science/Shapes.html)."
   ],
   "metadata": {
    "collapsed": false,
    "pycharm": {
     "name": "#%% md\n"
    }
   }
  },
  {
   "cell_type": "markdown",
   "source": [
    "### Automatic Differentiation\n",
    "\n",
    "Next, let's compute the [gradient](https://holl-.github.io/ML4Science/Autodiff.html) of some function of *(x,y)* w.r.t. *x*."
   ],
   "metadata": {
    "collapsed": false,
    "pycharm": {
     "name": "#%% md\n"
    }
   }
  },
  {
   "cell_type": "code",
   "execution_count": null,
   "outputs": [],
   "source": [
    "from ml4s import math\n",
    "math.use('jax')\n",
    "\n",
    "def function(x, y):\n",
    "    return x ** 2 * y\n",
    "\n",
    "gradient_x = math.gradient(function, wrt='x', get_output=False)\n",
    "print(gradient_x(2, 1))"
   ],
   "metadata": {
    "collapsed": false,
    "pycharm": {
     "name": "#%%\n"
    }
   }
  },
  {
   "cell_type": "markdown",
   "source": [
    "### JIT compilation\n",
    "\n",
    "ML4Science provides two types of [JIT compilation](https://holl-.github.io/ML4Science/JIT.html): the generic [`jit_compile`](https://holl-.github.io/ML4Science/ml4s/math#ml4s.math.jit_compile) calls the corresponding library function while [`jit_compile_linear`](https://holl-.github.io/ML4Science/ml4s/math#ml4s.math.jit_compile_linear) builds an [explicit representation for linear functions](https://holl-.github.io/ML4Science/Matrices.html#Tracing)."
   ],
   "metadata": {
    "collapsed": false,
    "pycharm": {
     "name": "#%% md\n"
    }
   }
  },
  {
   "cell_type": "code",
   "execution_count": null,
   "outputs": [],
   "source": [
    "from ml4s import math\n",
    "math.use('tensorflow')\n",
    "\n",
    "@math.jit_compile(auxiliary_args='divide_by_y')\n",
    "def function(x, y, divide_by_y=False):\n",
    "    if divide_by_y:\n",
    "        return x ** 2 / y\n",
    "    else:\n",
    "        return x ** 2 * y\n",
    "\n",
    "function(2, 2, False)"
   ],
   "metadata": {
    "collapsed": false,
    "pycharm": {
     "name": "#%%\n"
    }
   }
  },
  {
   "cell_type": "markdown",
   "source": [
    "Here, we declare `divide_by_y` as an auxiliary argument to force the function to be re-traced when its value changes.\n",
    "Otherwise, its concrete value would not be available inside the function and could not be used within an `if` clause.\n",
    "\n",
    "JIT compilation of linear functions is also supported on NumPy."
   ],
   "metadata": {
    "collapsed": false,
    "pycharm": {
     "name": "#%% md\n"
    }
   }
  },
  {
   "cell_type": "code",
   "execution_count": null,
   "outputs": [],
   "source": [
    "from ml4s import math\n",
    "math.use('numpy')\n",
    "\n",
    "@math.jit_compile_linear(auxiliary_args='compute_laplace')\n",
    "def optional_sp_grad(x, compute_gradient):\n",
    "    if compute_gradient:\n",
    "        return math.spatial_gradient(x)\n",
    "    else:\n",
    "        return -x\n",
    "\n",
    "optional_sp_grad(math.linspace(0, 1, math.spatial(x=10)), True)"
   ],
   "metadata": {
    "collapsed": false,
    "pycharm": {
     "name": "#%%\n"
    }
   }
  },
  {
   "cell_type": "markdown",
   "source": [
    "Here, an [explicit sparse matrix representation](https://holl-.github.io/ML4Science/Matrices.html#Tracing) of `optional_sp_grad` is computed each time a new value of `compute_gradient` is passed.\n"
   ],
   "metadata": {
    "collapsed": false,
    "pycharm": {
     "name": "#%% md\n"
    }
   }
  },
  {
   "cell_type": "markdown",
   "source": [
    "### Solving a sparse linear system with preconditioners\n",
    "\n",
    "ML4Science supports [solving dense as well as sparse linear systems](https://holl-.github.io/ML4Science/Linear_Solves.html) and can [build an explicit matrix representation from linear Python functions](https://holl-.github.io/ML4Science/Matrices.html) in order to compute preconditioners.\n",
    "We recommend using ML4Science's tensors, but you can pass native tensors to [`solve_linear()`](https://holl-.github.io/ML4Science/ml4s/math#ml4s.math.solve_linear) as well.\n",
    "The following example solves the 1D Poisson problem ∇x = b with b=1 with incomplete LU decomposition."
   ],
   "metadata": {
    "collapsed": false,
    "pycharm": {
     "name": "#%% md\n"
    }
   }
  },
  {
   "cell_type": "code",
   "execution_count": null,
   "outputs": [],
   "source": [
    "from ml4s import math\n",
    "import numpy as np\n",
    "\n",
    "def laplace_1d(x):\n",
    "    return math.pad(x[1:], (0, 1)) + math.pad(x[:-1], (1, 0)) - 2 * x\n",
    "\n",
    "b = np.ones((6,))\n",
    "solve = math.Solve('scipy-CG', rel_tol=1e-5, x0=0*b, preconditioner='ilu')\n",
    "sol = math.solve_linear(math.jit_compile_linear(laplace_1d), b, solve)"
   ],
   "metadata": {
    "collapsed": false,
    "pycharm": {
     "name": "#%%\n"
    }
   }
  },
  {
   "cell_type": "markdown",
   "source": [
    "Decorating the linear function with [`math.jit_compile_linear`](https://holl-.github.io/ML4Science/ml4s/math#ml4s.math.jit_compile_linear) lets ML4Science compute the sparse matrix inside [`solve_linear()`](https://holl-.github.io/ML4Science/ml4s/math#ml4s.math.solve_linear). In this example, the matrix is a tridiagonal band matrix.\n",
    "Note that if you JIT-compile the [`math.solve_linear()`](https://holl-.github.io/ML4Science/ml4s/math#ml4s.math.solve_linear) call, the sparsity pattern and incomplete LU preconditioner are [computed at JIT time](https://holl-.github.io/ML4Science/NumPy_Constants.html).\n",
    "The L and U matrices then enter the computational graph as constants and are not recomputed every time the function is called."
   ],
   "metadata": {
    "collapsed": false,
    "pycharm": {
     "name": "#%% md\n"
    }
   }
  },
  {
   "cell_type": "markdown",
   "source": [
    "## Further Reading\n",
    "\n",
    "Check out the [🚀 quickstart guide](Introduction.html) for an introduction into [tensors](Tensors.html) and [dimensions](Shapes.html).\n",
    "\n",
    "[🌐 **ML4Science**](https://github.com/holl-/ML4Science)\n",
    "&nbsp; • &nbsp; [📖 **Documentation**](https://holl-.github.io/ML4Science/)\n",
    "&nbsp; • &nbsp; [🔗 **API**](https://holl-.github.io/ML4Science/ml4s)\n",
    "&nbsp; • &nbsp; [**▶ Videos**]()"
   ],
   "metadata": {
    "collapsed": false,
    "pycharm": {
     "name": "#%% md\n"
    }
   }
  }
 ],
 "metadata": {
  "kernelspec": {
   "display_name": "Python 3",
   "language": "python",
   "name": "python3"
  },
  "language_info": {
   "codemirror_mode": {
    "name": "ipython",
    "version": 2
   },
   "file_extension": ".py",
   "mimetype": "text/x-python",
   "name": "python",
   "nbconvert_exporter": "python",
   "pygments_lexer": "ipython2",
   "version": "2.7.6"
  }
 },
 "nbformat": 4,
 "nbformat_minor": 0
}