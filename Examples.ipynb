{
 "cells": [
  {
   "cell_type": "markdown",
   "source": [
    "# UnifyML Examples\n",
    "\n",
    "[![Colab](https://colab.research.google.com/assets/colab-badge.svg)](https://colab.research.google.com/github/holl-/UnifyML/blob/main/docs/Examples.ipynb)\n",
    "&nbsp; • &nbsp; [🌐 **UnifyML**](https://github.com/holl-/UnifyML)\n",
    "&nbsp; • &nbsp; [📖 **Documentation**](https://holl-.github.io/UnifyML/)\n",
    "&nbsp; • &nbsp; [🔗 **API**](https://holl-.github.io/UnifyML/unifyml)\n",
    "&nbsp; • &nbsp; [**▶ Videos**]()\n",
    "\n",
    "Math\n",
    "\n",
    "Neural Network training"
   ],
   "metadata": {
    "collapsed": false,
    "pycharm": {
     "name": "#%% md\n"
    }
   },
   "execution_count": 1
  },
  {
   "cell_type": "code",
   "execution_count": null,
   "outputs": [],
   "source": [],
   "metadata": {
    "collapsed": false,
    "pycharm": {
     "name": "#%%\n"
    }
   }
  }
 ],
 "metadata": {
  "kernelspec": {
   "display_name": "Python 3",
   "language": "python",
   "name": "python3"
  },
  "language_info": {
   "codemirror_mode": {
    "name": "ipython",
    "version": 2
   },
   "file_extension": ".py",
   "mimetype": "text/x-python",
   "name": "python",
   "nbconvert_exporter": "python",
   "pygments_lexer": "ipython2",
   "version": "2.7.6"
  }
 },
 "nbformat": 4,
 "nbformat_minor": 0
}