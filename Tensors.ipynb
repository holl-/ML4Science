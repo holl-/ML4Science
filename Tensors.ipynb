{
 "cells": [
  {
   "cell_type": "markdown",
   "metadata": {
    "collapsed": false,
    "pycharm": {
     "name": "#%% md\n"
    }
   },
   "source": [
    "# Why Use Φ<sub>ML</sub>'s Tensors\n",
    "\n",
    "[![Colab](https://colab.research.google.com/assets/colab-badge.svg)](https://colab.research.google.com/github/tum-pbs/PhiML/blob/main/docs/Tensors.ipynb)\n",
    "&nbsp; • &nbsp; [🌐 **Φ<sub>ML</sub>**](https://github.com/tum-pbs/PhiML)\n",
    "&nbsp; • &nbsp; [📖 **Documentation**](https://tum-pbs.github.io/PhiML/)\n",
    "&nbsp; • &nbsp; [🔗 **API**](https://tum-pbs.github.io/PhiML/phiml)\n",
    "&nbsp; • &nbsp; [**▶ Videos**]()\n",
    "&nbsp; • &nbsp; [<img src=\"images/colab_logo_small.png\" height=4>](https://colab.research.google.com/github/tum-pbs/PhiML/blob/main/docs/Examples.ipynb) [**Examples**](https://tum-pbs.github.io/PhiML/Examples.html)\n",
    "\n",
    "While you can call many Φ<sub>ML</sub> function directly with native tensors, such as Jax tensors or NumPy arrays, we recommend wrapping them in Φ<sub>ML</sub> tensors.\n",
    "These provide several benefits over the native tensors and allow you to write easy-to-read, more concise, more explicit, less error-prone code.\n",
    "\n",
    "For an introduction into tensors and dimensions, check out the [introduction notebook](Introduction.ht).\n",
    "\n",
    "This notebook is work in progress. It will explain\n",
    "\n",
    "* Comparisons to native libraries.\n",
    "* show easy-to-read, more concise, more explicit, less error-prone code"
   ]
  },
  {
   "cell_type": "code",
   "execution_count": 1,
   "metadata": {
    "collapsed": false,
    "pycharm": {
     "name": "#%%\n"
    }
   },
   "outputs": [],
   "source": [
    "%%capture\n",
    "!pip install phiml"
   ]
  },
  {
   "cell_type": "markdown",
   "metadata": {
    "collapsed": false,
    "pycharm": {
     "name": "#%% md\n"
    }
   },
   "source": [
    "## Named Dimensions\n",
    "\n",
    "All tensor dimensions in Φ<sub>ML</sub> are required to have a name and type.\n",
    "These properties are part of the [tensor shape](Shapes.html).\n",
    "When creating a Φ<sub>ML</sub> tensor, you need to specify the names and types of all dimensions."
   ]
  },
  {
   "cell_type": "code",
   "execution_count": 3,
   "metadata": {
    "collapsed": false,
    "pycharm": {
     "name": "#%%\n"
    }
   },
   "outputs": [
    {
     "data": {
      "text/plain": [
       "\u001b[94m(0, 1, 2)\u001b[0m along \u001b[92mintegersᶜ\u001b[0m"
      ]
     },
     "execution_count": 3,
     "metadata": {},
     "output_type": "execute_result"
    }
   ],
   "source": [
    "from phiml import math\n",
    "from phiml.math import channel, batch, spatial, instance, dual  # dimension types\n",
    "\n",
    "math.wrap([0, 1, 2], channel('integers'))"
   ]
  },
  {
   "cell_type": "code",
   "execution_count": 9,
   "metadata": {
    "collapsed": false,
    "pycharm": {
     "name": "#%%\n"
    }
   },
   "outputs": [
    {
     "data": {
      "text/plain": [
       "\u001b[92m(examplesᵇ=2, xˢ=4, yˢ=3)\u001b[0m \u001b[94m0.570 ± 0.216\u001b[0m \u001b[37m(1e-01...1e+00)\u001b[0m"
      ]
     },
     "execution_count": 9,
     "metadata": {},
     "output_type": "execute_result"
    }
   ],
   "source": [
    "data = math.random_uniform(batch(examples=2), spatial(x=4, y=3))\n",
    "data"
   ]
  },
  {
   "cell_type": "markdown",
   "metadata": {
    "collapsed": false,
    "pycharm": {
     "name": "#%% md\n"
    }
   },
   "source": [
    "## Printing Options\n",
    "\n",
    "As you can see, Φ<sub>ML</sub> summarizes tensors by default and color-codes the result text.\n",
    "The Python formatting options let you customize how a tensor is printed, with options being separated by colons.\n",
    "Here are some examples:"
   ]
  },
  {
   "cell_type": "code",
   "execution_count": 10,
   "metadata": {
    "collapsed": false,
    "pycharm": {
     "name": "#%%\n"
    }
   },
   "outputs": [
    {
     "name": "stdout",
     "output_type": "stream",
     "text": [
      "\u001b[92m(examplesᵇ=2, xˢ=4, yˢ=3)\u001b[0m \u001b[93mfloat32\u001b[0m \u001b[94m5.70418e-01 ± 2.15591e-01\u001b[0m \u001b[37m(1.47583e-01...9.55640e-01)\u001b[0m\n"
     ]
    }
   ],
   "source": [
    "print(f\"{data:summary:color:shape:dtype:.5e}\")"
   ]
  },
  {
   "cell_type": "code",
   "execution_count": 17,
   "metadata": {
    "collapsed": false,
    "pycharm": {
     "name": "#%%\n"
    }
   },
   "outputs": [
    {
     "name": "stdout",
     "output_type": "stream",
     "text": [
      "\u001b[92mexamples=0\u001b[0m  \n",
      "\u001b[94m 0.204, 0.148, 0.273, 0.764,\n",
      " 0.612, 0.512, 0.838, 0.794,\n",
      " 0.631, 0.954, 0.453, 0.585\u001b[0m  along \u001b[92m(xˢ=4, yˢ=3)\u001b[0m\n",
      "\u001b[92mexamples=1\u001b[0m  \n",
      "\u001b[94m 0.824, 0.736, 0.382, 0.608,\n",
      " 0.467, 0.956, 0.452, 0.453,\n",
      " 0.422, 0.713, 0.467, 0.443\u001b[0m  along \u001b[92m(xˢ=4, yˢ=3)\u001b[0m\n"
     ]
    }
   ],
   "source": [
    "print(f\"{data:full:color:shape:dtype:.3f}\")"
   ]
  },
  {
   "cell_type": "code",
   "execution_count": 21,
   "metadata": {
    "collapsed": false,
    "pycharm": {
     "name": "#%%\n"
    }
   },
   "outputs": [
    {
     "name": "stdout",
     "output_type": "stream",
     "text": [
      "[[[0.63 0.61 0.20]\n",
      "  [0.95 0.51 0.15]\n",
      "  [0.45 0.84 0.27]\n",
      "  [0.58 0.79 0.76]]\n",
      "\n",
      " [[0.42 0.47 0.82]\n",
      "  [0.71 0.96 0.74]\n",
      "  [0.47 0.45 0.38]\n",
      "  [0.44 0.45 0.61]]]\n"
     ]
    }
   ],
   "source": [
    "print(f\"{data:numpy:no-color:no-shape:no-dtype:.2f}\")"
   ]
  },
  {
   "cell_type": "markdown",
   "metadata": {
    "collapsed": false,
    "pycharm": {
     "name": "#%% md\n"
    }
   },
   "source": [
    "The order of the formatting arguments is not important.\n",
    "Supported options are:\n",
    "\n",
    "**Layout:**\n",
    "The layout determines what is printed and where. The following options are available:\n",
    "\n",
    "* `summary` Summarizes the values by mean, standard deviation, minimum and maximum value.\n",
    "* `row` Prints the tensor as a single-line vector.\n",
    "* `full` Prints all values in the tensors as a multi-line string.\n",
    "* `numpy` Uses the formatting of NumPy\n",
    "\n",
    "**Number format**:\n",
    "You can additionally specify a format string for floating-point numbers like `.3f` or `.2e`.\n",
    "\n",
    "**Color**:\n",
    "Use the keywords `color` or `no-color`.\n",
    "Currently `color` will use ANSI color codes which are supported by most terminals, IDEs as well as Jupyter notebooks.\n",
    "\n",
    "**Additional tensor information**:\n",
    "The keywords `shape`, `no-shape`, `dtype` and `no-dtype` can be used to show or hide additional properties of the tensor.\n"
   ]
  },
  {
   "cell_type": "markdown",
   "metadata": {
    "collapsed": false,
    "pycharm": {
     "name": "#%% md\n"
    }
   },
   "source": [
    "## Wrapping and Unwrapping\n",
    "\n",
    "You can wrap existing tensors in Φ<sub>ML</sub> tensors using [`wrap()`](phiml/math#phiml.math.wrap) or [`tensor()`](phiml/math#phiml.math.tensor).\n",
    "While `tensor()` will convert the data to the [default backend](Convert.html), `wrap()` will keep the data as-is.\n",
    "In either case, you need to specify the dimension names and types when wrapping a native tensor."
   ]
  },
  {
   "cell_type": "code",
   "execution_count": 24,
   "metadata": {
    "collapsed": false,
    "pycharm": {
     "name": "#%%\n"
    }
   },
   "outputs": [
    {
     "data": {
      "text/plain": [
       "\u001b[94m(0, 1, 2)\u001b[0m along \u001b[92mexamplesᵇ\u001b[0m"
      ]
     },
     "execution_count": 24,
     "metadata": {},
     "output_type": "execute_result"
    }
   ],
   "source": [
    "math.use('torch')\n",
    "math.tensor([0, 1, 2], batch('examples'))"
   ]
  },
  {
   "cell_type": "markdown",
   "metadata": {
    "collapsed": false,
    "pycharm": {
     "name": "#%% md\n"
    }
   },
   "source": [
    "To unwrap a tensor, you can use `tensor.native()` or `math.reshaped_native()` for more control over the result shape.\n",
    "In both cases, the requested dimension order needs to be specified."
   ]
  },
  {
   "cell_type": "code",
   "execution_count": 25,
   "metadata": {
    "collapsed": false,
    "pycharm": {
     "name": "#%%\n"
    }
   },
   "outputs": [
    {
     "data": {
      "text/plain": [
       "array([[[0.6309898 , 0.611722  , 0.2038249 ],\n",
       "        [0.9543073 , 0.5123106 , 0.14758302],\n",
       "        [0.45304176, 0.83762187, 0.27338478],\n",
       "        [0.5846348 , 0.794242  , 0.7644842 ]],\n",
       "\n",
       "       [[0.42182267, 0.46698892, 0.82417876],\n",
       "        [0.7127511 , 0.9556401 , 0.7356606 ],\n",
       "        [0.46661076, 0.45159382, 0.38228187],\n",
       "        [0.4433869 , 0.45273894, 0.608222  ]]], dtype=float32)"
      ]
     },
     "execution_count": 25,
     "metadata": {},
     "output_type": "execute_result"
    }
   ],
   "source": [
    "data.native('examples,x,y')"
   ]
  },
  {
   "cell_type": "markdown",
   "metadata": {
    "collapsed": false,
    "pycharm": {
     "name": "#%% md\n"
    }
   },
   "source": [
    "Similarly, you can get the NumPy representation:"
   ]
  },
  {
   "cell_type": "code",
   "execution_count": 30,
   "metadata": {
    "collapsed": false,
    "pycharm": {
     "name": "#%%\n"
    }
   },
   "outputs": [
    {
     "data": {
      "text/plain": [
       "array([[[0.6309898 , 0.611722  , 0.2038249 ],\n",
       "        [0.9543073 , 0.5123106 , 0.14758302],\n",
       "        [0.45304176, 0.83762187, 0.27338478],\n",
       "        [0.5846348 , 0.794242  , 0.7644842 ]],\n",
       "\n",
       "       [[0.42182267, 0.46698892, 0.82417876],\n",
       "        [0.7127511 , 0.9556401 , 0.7356606 ],\n",
       "        [0.46661076, 0.45159382, 0.38228187],\n",
       "        [0.4433869 , 0.45273894, 0.608222  ]]], dtype=float32)"
      ]
     },
     "execution_count": 30,
     "metadata": {},
     "output_type": "execute_result"
    }
   ],
   "source": [
    "data.numpy('examples,x,y')"
   ]
  },
  {
   "cell_type": "markdown",
   "metadata": {
    "collapsed": false,
    "pycharm": {
     "name": "#%% md\n"
    }
   },
   "source": [
    "## Further Reading\n",
    "\n",
    "Check out the [examples](https://tum-pbs.github.io/PhiML/Examples.html) to see how using Φ<sub>ML</sub>'s tensors is different from the other libraries.\n",
    "\n",
    "Learn more about the [dimension types](Shapes.html) and their [advantages](Dimension_Names_Types.html).\n",
    "\n",
    "Φ<sub>ML</sub> unifies [data types](Data_Types.html) as well and lets you set the floating point precision globally or by context.\n",
    "\n",
    "While the dimensionality of neural networks must be specified during network creation, this is not the case for math functions.\n",
    "These [automatically adapt to the number of spatial dimensions of the data that is passed in](N_Dimensional.html).\n",
    "\n",
    "[🌐 **Φ<sub>ML</sub>**](https://github.com/tum-pbs/PhiML)\n",
    "&nbsp; • &nbsp; [📖 **Documentation**](https://tum-pbs.github.io/PhiML/)\n",
    "&nbsp; • &nbsp; [🔗 **API**](https://tum-pbs.github.io/PhiML/phiml)\n",
    "&nbsp; • &nbsp; [**▶ Videos**]()\n",
    "&nbsp; • &nbsp; [<img src=\"images/colab_logo_small.png\" height=4>](https://colab.research.google.com/github/tum-pbs/PhiML/blob/main/docs/Examples.ipynb) [**Examples**](https://tum-pbs.github.io/PhiML/Examples.html)"
   ]
  }
 ],
 "metadata": {
  "kernelspec": {
   "display_name": "Python 3",
   "language": "python",
   "name": "python3"
  },
  "language_info": {
   "codemirror_mode": {
    "name": "ipython",
    "version": 2
   },
   "file_extension": ".py",
   "mimetype": "text/x-python",
   "name": "python",
   "nbconvert_exporter": "python",
   "pygments_lexer": "ipython2",
   "version": "2.7.6"
  }
 },
 "nbformat": 4,
 "nbformat_minor": 0
}
