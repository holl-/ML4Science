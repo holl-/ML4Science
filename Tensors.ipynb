{
 "cells": [
  {
   "cell_type": "markdown",
   "source": [
    "# Why Use UnifyML's Tensors\n",
    "\n",
    "[![Colab](https://colab.research.google.com/assets/colab-badge.svg)](https://colab.research.google.com/github/holl-/UnifyML/blob/main/docs/Tensors.ipynb)\n",
    "&nbsp; • &nbsp; [🌐 **UnifyML**](https://github.com/holl-/UnifyML)\n",
    "&nbsp; • &nbsp; [📖 **Documentation**](https://holl-.github.io/UnifyML/)\n",
    "&nbsp; • &nbsp; [🔗 **API**](https://holl-.github.io/UnifyML/unifyml)\n",
    "&nbsp; • &nbsp; [**▶ Videos**]()\n",
    "&nbsp; • &nbsp; [<img src=\"images/colab_logo_small.png\" height=4>](https://colab.research.google.com/github/holl-/UnifyML/blob/main/docs/Examples.ipynb) [**Examples**](https://holl-.github.io/UnifyML/Examples.html)\n",
    "\n",
    "Comparisons to native libraries.\n",
    "\n",
    "show easy-to-read, more concise, more explicit, less error-prone code"
   ],
   "metadata": {
    "collapsed": false,
    "pycharm": {
     "name": "#%% md\n"
    }
   }
  },
  {
   "cell_type": "code",
   "execution_count": null,
   "outputs": [],
   "source": [],
   "metadata": {
    "collapsed": false,
    "pycharm": {
     "name": "#%%\n"
    }
   }
  },
  {
   "cell_type": "markdown",
   "source": [
    "Addressing dimensions and slices by name instead of index makes code a lot more readable. This feature also exists in other frameworks to some extent but remains largely unused due to requiring more code.\n",
    "\n",
    "These additions make it possible for UnifyML to take care of reshaping operations under-the-hood.\n",
    "Another consequence is that the order of dimensions is irrelevant and operations such as [`stack`](https://holl-.github.io/UnifyML/unifyml/math/#unifyml.math.stack) do not require an index argument."
   ],
   "metadata": {
    "collapsed": false,
    "pycharm": {
     "name": "#%% md\n"
    }
   }
  },
  {
   "cell_type": "markdown",
   "source": [
    "* With dimension names, the dimension order becomes irrelevant and you don't need to worry about it.\n",
    "* Missing dimensions are automatically added when and where needed.\n",
    "* Tensors are automatically transposed to match.\n",
    "* Slicing by name is a lot more readable, e.g. `image.channels['red']` vs `image[:, :, :, 0]`.\n",
    "* Functions will automatically use the right dimensions, e.g. convolutions and FFTs act on spatial dimensions by default.\n",
    "* You can have arbitrarily many batch dimensions (or none) and your code will work the same.\n",
    "* The number of spatial dimensions control the dimensionality of not only your data but also your code. [Your 2D code also runs in 3D](https://holl-.github.io/UnifyML/N_Dimensional.html)!"
   ],
   "metadata": {
    "collapsed": false,
    "pycharm": {
     "name": "#%% md\n"
    }
   }
  },
  {
   "cell_type": "code",
   "execution_count": null,
   "outputs": [],
   "source": [],
   "metadata": {
    "collapsed": false,
    "pycharm": {
     "name": "#%%\n"
    }
   }
  }
 ],
 "metadata": {
  "kernelspec": {
   "display_name": "Python 3",
   "language": "python",
   "name": "python3"
  },
  "language_info": {
   "codemirror_mode": {
    "name": "ipython",
    "version": 2
   },
   "file_extension": ".py",
   "mimetype": "text/x-python",
   "name": "python",
   "nbconvert_exporter": "python",
   "pygments_lexer": "ipython2",
   "version": "2.7.6"
  }
 },
 "nbformat": 4,
 "nbformat_minor": 0
}