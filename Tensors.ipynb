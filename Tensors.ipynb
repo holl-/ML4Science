{
 "cells": [
  {
   "cell_type": "markdown",
   "source": [
    "# Why Use ML4Science's Tensors\n",
    "\n",
    "[![Colab](https://colab.research.google.com/assets/colab-badge.svg)](https://colab.research.google.com/github/holl-/ML4Science/blob/main/docs/Tensors.ipynb)\n",
    "&nbsp; • &nbsp; [🌐 **ML4Science**](https://github.com/holl-/ML4Science)\n",
    "&nbsp; • &nbsp; [📖 **Documentation**](https://holl-.github.io/ML4Science/)\n",
    "&nbsp; • &nbsp; [🔗 **API**](https://holl-.github.io/ML4Science/ml4s)\n",
    "&nbsp; • &nbsp; [**▶ Videos**]()\n",
    "&nbsp; • &nbsp; [<img src=\"images/colab_logo_small.png\" height=4>](https://colab.research.google.com/github/holl-/ML4Science/blob/main/docs/Examples.ipynb) [**Examples**](https://holl-.github.io/ML4Science/Examples.html)\n",
    "\n",
    "While you can call many ML4Science function directly with native tensors, such as Jax tensors or NumPy arrays, we recommend wrapping them in ML4Science tensors.\n",
    "These provide several benefits over the native tensors and allow you to write easy-to-read, more concise, more explicit, less error-prone code.\n",
    "\n",
    "For an introduction into tensors and dimensions, check out the [introduction notebook](Introduction.ht).\n",
    "\n",
    "This notebook is work in progress. It will explain\n",
    "\n",
    "* Comparisons to native libraries.\n",
    "* show easy-to-read, more concise, more explicit, less error-prone code"
   ],
   "metadata": {
    "collapsed": false,
    "pycharm": {
     "name": "#%% md\n"
    }
   }
  },
  {
   "cell_type": "code",
   "execution_count": 1,
   "outputs": [],
   "source": [
    "%%capture\n",
    "!pip install ml4s"
   ],
   "metadata": {
    "collapsed": false,
    "pycharm": {
     "name": "#%%\n"
    }
   }
  },
  {
   "cell_type": "markdown",
   "source": [
    "## Named Dimensions\n",
    "\n",
    "All tensor dimensions in ML4Science are required to have a name and type.\n",
    "These properties are part of the [tensor shape](Shapes.html).\n",
    "When creating a ML4Science tensor, you need to specify the names and types of all dimensions."
   ],
   "metadata": {
    "collapsed": false,
    "pycharm": {
     "name": "#%% md\n"
    }
   }
  },
  {
   "cell_type": "code",
   "execution_count": 3,
   "outputs": [
    {
     "data": {
      "text/plain": "\u001B[94m(0, 1, 2)\u001B[0m along \u001B[92mintegersᶜ\u001B[0m"
     },
     "execution_count": 3,
     "metadata": {},
     "output_type": "execute_result"
    }
   ],
   "source": [
    "from ml4s import math\n",
    "from ml4s.math import channel, batch, spatial, instance, dual  # dimension types\n",
    "\n",
    "math.wrap([0, 1, 2], channel('integers'))"
   ],
   "metadata": {
    "collapsed": false,
    "pycharm": {
     "name": "#%%\n"
    }
   }
  },
  {
   "cell_type": "code",
   "execution_count": 9,
   "outputs": [
    {
     "data": {
      "text/plain": "\u001B[92m(examplesᵇ=2, xˢ=4, yˢ=3)\u001B[0m \u001B[94m0.570 ± 0.216\u001B[0m \u001B[37m(1e-01...1e+00)\u001B[0m"
     },
     "execution_count": 9,
     "metadata": {},
     "output_type": "execute_result"
    }
   ],
   "source": [
    "data = math.random_uniform(batch(examples=2), spatial(x=4, y=3))\n",
    "data"
   ],
   "metadata": {
    "collapsed": false,
    "pycharm": {
     "name": "#%%\n"
    }
   }
  },
  {
   "cell_type": "markdown",
   "source": [
    "## Printing Options\n",
    "\n",
    "As you can see, ML4Science summarizes tensors by default and color-codes the result text.\n",
    "The Python formatting options let you customize how a tensor is printed, with options being separated by colons.\n",
    "Here are some examples:"
   ],
   "metadata": {
    "collapsed": false,
    "pycharm": {
     "name": "#%% md\n"
    }
   }
  },
  {
   "cell_type": "code",
   "execution_count": 10,
   "outputs": [
    {
     "name": "stdout",
     "output_type": "stream",
     "text": [
      "\u001B[92m(examplesᵇ=2, xˢ=4, yˢ=3)\u001B[0m \u001B[93mfloat32\u001B[0m \u001B[94m5.70418e-01 ± 2.15591e-01\u001B[0m \u001B[37m(1.47583e-01...9.55640e-01)\u001B[0m\n"
     ]
    }
   ],
   "source": [
    "print(f\"{data:summary:color:shape:dtype:.5e}\")"
   ],
   "metadata": {
    "collapsed": false,
    "pycharm": {
     "name": "#%%\n"
    }
   }
  },
  {
   "cell_type": "code",
   "execution_count": 17,
   "outputs": [
    {
     "name": "stdout",
     "output_type": "stream",
     "text": [
      "\u001B[92mexamples=0\u001B[0m  \n",
      "\u001B[94m 0.204, 0.148, 0.273, 0.764,\n",
      " 0.612, 0.512, 0.838, 0.794,\n",
      " 0.631, 0.954, 0.453, 0.585\u001B[0m  along \u001B[92m(xˢ=4, yˢ=3)\u001B[0m\n",
      "\u001B[92mexamples=1\u001B[0m  \n",
      "\u001B[94m 0.824, 0.736, 0.382, 0.608,\n",
      " 0.467, 0.956, 0.452, 0.453,\n",
      " 0.422, 0.713, 0.467, 0.443\u001B[0m  along \u001B[92m(xˢ=4, yˢ=3)\u001B[0m\n"
     ]
    }
   ],
   "source": [
    "print(f\"{data:full:color:shape:dtype:.3f}\")"
   ],
   "metadata": {
    "collapsed": false,
    "pycharm": {
     "name": "#%%\n"
    }
   }
  },
  {
   "cell_type": "code",
   "execution_count": 21,
   "outputs": [
    {
     "name": "stdout",
     "output_type": "stream",
     "text": [
      "[[[0.63 0.61 0.20]\n",
      "  [0.95 0.51 0.15]\n",
      "  [0.45 0.84 0.27]\n",
      "  [0.58 0.79 0.76]]\n",
      "\n",
      " [[0.42 0.47 0.82]\n",
      "  [0.71 0.96 0.74]\n",
      "  [0.47 0.45 0.38]\n",
      "  [0.44 0.45 0.61]]]\n"
     ]
    }
   ],
   "source": [
    "print(f\"{data:numpy:no-color:no-shape:no-dtype:.2f}\")"
   ],
   "metadata": {
    "collapsed": false,
    "pycharm": {
     "name": "#%%\n"
    }
   }
  },
  {
   "cell_type": "markdown",
   "source": [
    "The order of the formatting arguments is not important.\n",
    "Supported options are:\n",
    "\n",
    "**Layout:**\n",
    "The layout determines what is printed and where. The following options are available:\n",
    "\n",
    "* `summary` Summarizes the values by mean, standard deviation, minimum and maximum value.\n",
    "* `row` Prints the tensor as a single-line vector.\n",
    "* `full` Prints all values in the tensors as a multi-line string.\n",
    "* `numpy` Uses the formatting of NumPy\n",
    "\n",
    "**Number format**:\n",
    "You can additionally specify a format string for floating-point numbers like `.3f` or `.2e`.\n",
    "\n",
    "**Color**:\n",
    "Use the keywords `color` or `no-color`.\n",
    "Currently `color` will use ANSI color codes which are supported by most terminals, IDEs as well as Jupyter notebooks.\n",
    "\n",
    "**Additional tensor information**:\n",
    "The keywords `shape`, `no-shape`, `dtype` and `no-dtype` can be used to show or hide additional properties of the tensor.\n"
   ],
   "metadata": {
    "collapsed": false,
    "pycharm": {
     "name": "#%% md\n"
    }
   }
  },
  {
   "cell_type": "markdown",
   "source": [
    "## Wrapping and Unwrapping\n",
    "\n",
    "You can wrap existing tensors in ML4Science tensors using [`wrap()`](ml4s/math#ml4s.math.wrap) or [`tensor()`](ml4s/math#ml4s.math.tensor).\n",
    "While `tensor()` will convert the data to the [default backend](Convert.html), `wrap()` will keep the data as-is.\n",
    "In either case, you need to specify the dimension names and types when wrapping a native tensor."
   ],
   "metadata": {
    "collapsed": false,
    "pycharm": {
     "name": "#%% md\n"
    }
   }
  },
  {
   "cell_type": "code",
   "execution_count": 24,
   "outputs": [
    {
     "data": {
      "text/plain": "\u001B[94m(0, 1, 2)\u001B[0m along \u001B[92mexamplesᵇ\u001B[0m"
     },
     "execution_count": 24,
     "metadata": {},
     "output_type": "execute_result"
    }
   ],
   "source": [
    "math.use('torch')\n",
    "math.tensor([0, 1, 2], batch('examples'))"
   ],
   "metadata": {
    "collapsed": false,
    "pycharm": {
     "name": "#%%\n"
    }
   }
  },
  {
   "cell_type": "markdown",
   "source": [
    "To unwrap a tensor, you can use `tensor.native()` or `math.reshaped_native()` for more control over the result shape.\n",
    "In both cases, the requested dimension order needs to be specified."
   ],
   "metadata": {
    "collapsed": false,
    "pycharm": {
     "name": "#%% md\n"
    }
   }
  },
  {
   "cell_type": "code",
   "execution_count": 25,
   "outputs": [
    {
     "data": {
      "text/plain": "array([[[0.6309898 , 0.611722  , 0.2038249 ],\n        [0.9543073 , 0.5123106 , 0.14758302],\n        [0.45304176, 0.83762187, 0.27338478],\n        [0.5846348 , 0.794242  , 0.7644842 ]],\n\n       [[0.42182267, 0.46698892, 0.82417876],\n        [0.7127511 , 0.9556401 , 0.7356606 ],\n        [0.46661076, 0.45159382, 0.38228187],\n        [0.4433869 , 0.45273894, 0.608222  ]]], dtype=float32)"
     },
     "execution_count": 25,
     "metadata": {},
     "output_type": "execute_result"
    }
   ],
   "source": [
    "data.native('examples,x,y')"
   ],
   "metadata": {
    "collapsed": false,
    "pycharm": {
     "name": "#%%\n"
    }
   }
  },
  {
   "cell_type": "markdown",
   "source": [
    "Similarly, you can get the NumPy representation:"
   ],
   "metadata": {
    "collapsed": false,
    "pycharm": {
     "name": "#%% md\n"
    }
   }
  },
  {
   "cell_type": "code",
   "execution_count": 30,
   "outputs": [
    {
     "data": {
      "text/plain": "array([[[0.6309898 , 0.611722  , 0.2038249 ],\n        [0.9543073 , 0.5123106 , 0.14758302],\n        [0.45304176, 0.83762187, 0.27338478],\n        [0.5846348 , 0.794242  , 0.7644842 ]],\n\n       [[0.42182267, 0.46698892, 0.82417876],\n        [0.7127511 , 0.9556401 , 0.7356606 ],\n        [0.46661076, 0.45159382, 0.38228187],\n        [0.4433869 , 0.45273894, 0.608222  ]]], dtype=float32)"
     },
     "execution_count": 30,
     "metadata": {},
     "output_type": "execute_result"
    }
   ],
   "source": [
    "data.numpy('examples,x,y')"
   ],
   "metadata": {
    "collapsed": false,
    "pycharm": {
     "name": "#%%\n"
    }
   }
  },
  {
   "cell_type": "markdown",
   "source": [
    "## Further Reading\n",
    "\n",
    "Check out the [examples](https://holl-.github.io/ML4Science/Examples.html) to see how using ML4Science's tensors is different from the other libraries.\n",
    "\n",
    "Learn more about the [dimension types](Shapes.html).\n",
    "\n",
    "ML4Science unifies [data types](Data_Types.html) as well and lets you set the floating point precision globally or by context.\n",
    "\n",
    "While the dimensionality of neural networks must be specified during network creation, this is not the case for math functions.\n",
    "These [automatically adapt to the number of spatial dimensions of the data that is passed in](N_Dimensional.html).\n",
    "\n",
    "[🌐 **ML4Science**](https://github.com/holl-/ML4Science)\n",
    "&nbsp; • &nbsp; [📖 **Documentation**](https://holl-.github.io/ML4Science/)\n",
    "&nbsp; • &nbsp; [🔗 **API**](https://holl-.github.io/ML4Science/ml4s)\n",
    "&nbsp; • &nbsp; [**▶ Videos**]()\n",
    "&nbsp; • &nbsp; [<img src=\"images/colab_logo_small.png\" height=4>](https://colab.research.google.com/github/holl-/ML4Science/blob/main/docs/Examples.ipynb) [**Examples**](https://holl-.github.io/ML4Science/Examples.html)"
   ],
   "metadata": {
    "collapsed": false,
    "pycharm": {
     "name": "#%% md\n"
    }
   }
  }
 ],
 "metadata": {
  "kernelspec": {
   "display_name": "Python 3",
   "language": "python",
   "name": "python3"
  },
  "language_info": {
   "codemirror_mode": {
    "name": "ipython",
    "version": 2
   },
   "file_extension": ".py",
   "mimetype": "text/x-python",
   "name": "python",
   "nbconvert_exporter": "python",
   "pygments_lexer": "ipython2",
   "version": "2.7.6"
  }
 },
 "nbformat": 4,
 "nbformat_minor": 0
}