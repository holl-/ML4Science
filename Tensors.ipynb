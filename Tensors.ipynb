{
 "cells": [
  {
   "cell_type": "markdown",
   "source": [
    "# Why Use UnifyML's Tensors\n",
    "\n",
    "[![Colab](https://colab.research.google.com/assets/colab-badge.svg)](https://colab.research.google.com/github/holl-/UnifyML/blob/main/docs/Tensors.ipynb)\n",
    "&nbsp; • &nbsp; [🌐 **UnifyML**](https://github.com/holl-/UnifyML)\n",
    "&nbsp; • &nbsp; [📖 **Documentation**](https://holl-.github.io/UnifyML/unifyml/)\n",
    "&nbsp; • &nbsp; [🔗 **API**](https://holl-.github.io/UnifyML/unifyml)\n",
    "&nbsp; • &nbsp; [**▶ Videos**]()\n",
    "&nbsp; • &nbsp; [<img src=\"images/colab_logo_small.png\" height=4>](https://colab.research.google.com/github/holl-/UnifyML/blob/main/docs/Examples.ipynb) [**Examples**](https://holl-.github.io/UnifyML/Examples.html)\n",
    "\n",
    "This notebook is work in progress. It will explain\n",
    "\n",
    "* Comparisons to native libraries.\n",
    "* show easy-to-read, more concise, more explicit, less error-prone code"
   ],
   "metadata": {
    "collapsed": false,
    "pycharm": {
     "name": "#%% md\n"
    }
   }
  },
  {
   "cell_type": "code",
   "execution_count": null,
   "outputs": [],
   "source": [
    "%%capture\n",
    "!pip install unifyml"
   ],
   "metadata": {
    "collapsed": false,
    "pycharm": {
     "name": "#%%\n"
    }
   }
  },
  {
   "cell_type": "markdown",
   "source": [
    "Addressing dimensions and slices by name instead of index makes code a lot more readable. This feature also exists in other frameworks to some extent but remains largely unused due to requiring more code.\n",
    "\n",
    "These additions make it possible for UnifyML to take care of reshaping operations under-the-hood.\n",
    "Another consequence is that the order of dimensions is irrelevant and operations such as [`stack`](https://holl-.github.io/UnifyML/unifyml/math/#unifyml.math.stack) do not require an index argument."
   ],
   "metadata": {
    "collapsed": false,
    "pycharm": {
     "name": "#%% md\n"
    }
   }
  },
  {
   "cell_type": "code",
   "execution_count": null,
   "outputs": [],
   "source": [
    "from unifyml import math"
   ],
   "metadata": {
    "collapsed": false,
    "pycharm": {
     "name": "#%%\n"
    }
   }
  },
  {
   "cell_type": "markdown",
   "source": [
    "* With dimension names, the dimension order becomes irrelevant and you don't need to worry about it.\n",
    "* Missing dimensions are automatically added when and where needed.\n",
    "* Tensors are automatically transposed to match.\n",
    "* Slicing by name is a lot more readable, e.g. `image.channels['red']` vs `image[:, :, :, 0]`.\n",
    "* Functions will automatically use the right dimensions, e.g. convolutions and FFTs act on spatial dimensions by default.\n",
    "* You can have arbitrarily many batch dimensions (or none) and your code will work the same.\n",
    "* The number of spatial dimensions control the dimensionality of not only your data but also your code. [Your 2D code also runs in 3D](https://holl-.github.io/UnifyML/N_Dimensional.html)!"
   ],
   "metadata": {
    "collapsed": false,
    "pycharm": {
     "name": "#%% md\n"
    }
   }
  },
  {
   "cell_type": "code",
   "execution_count": null,
   "outputs": [],
   "source": [],
   "metadata": {
    "collapsed": false,
    "pycharm": {
     "name": "#%%\n"
    }
   }
  },
  {
   "cell_type": "markdown",
   "source": [
    "## Printing Options\n",
    "\n",
    "Tensors can be printed in a variety of ways. These options can be specified in the format string, separated by colons. Here is an example:"
   ],
   "metadata": {
    "collapsed": false,
    "pycharm": {
     "name": "#%% md\n"
    }
   }
  },
  {
   "cell_type": "code",
   "execution_count": null,
   "outputs": [],
   "source": [
    "print(f\"{math.zeros(math.spatial(x=8, y=6)):summary:color:shape:dtype:.5e}\")"
   ],
   "metadata": {
    "collapsed": false,
    "pycharm": {
     "name": "#%%\n"
    }
   }
  },
  {
   "cell_type": "markdown",
   "source": [
    "The order of the arguments is not important.\n",
    "\n",
    "### Layout\n",
    "The layout determines what is printed and where. The following options are available:\n",
    "\n",
    "* `summary` Summarizes the values by mean, standard deviation, minimum and maximum value.\n",
    "* `row` Prints the tensor as a single-line vector.\n",
    "* `full` Prints all values in the tensors as a multi-line string.\n",
    "* `numpy` Uses the formatting of NumPy\n",
    "\n",
    "### Additional Information\n",
    "\n",
    "The keywords `shape`, `no-shape`, `dtype` and `no-dtype` can be used to show or hide additional properties of the tensor.\n",
    "\n",
    "### Color\n",
    "\n",
    "Use the keywords `color` or `no-color`.\n",
    "Currently `color` will use ANSI color codes which are supported by most terminals, IDEs as well as Jupyter notebooks.\n",
    "\n",
    "### Number Format\n",
    "\n",
    "You can additionally specify a format string for floating-point numbers like `.3f` or `.2e`."
   ],
   "metadata": {
    "collapsed": false,
    "pycharm": {
     "name": "#%% md\n"
    }
   }
  }
 ],
 "metadata": {
  "kernelspec": {
   "display_name": "Python 3",
   "language": "python",
   "name": "python3"
  },
  "language_info": {
   "codemirror_mode": {
    "name": "ipython",
    "version": 2
   },
   "file_extension": ".py",
   "mimetype": "text/x-python",
   "name": "python",
   "nbconvert_exporter": "python",
   "pygments_lexer": "ipython2",
   "version": "2.7.6"
  }
 },
 "nbformat": 4,
 "nbformat_minor": 0
}