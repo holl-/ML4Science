{
 "cells": [
  {
   "cell_type": "markdown",
   "source": [
    "# Shapes in ML4Science\n",
    "\n",
    "[![Colab](https://colab.research.google.com/assets/colab-badge.svg)](https://colab.research.google.com/github/holl-/ML4Science/blob/main/docs/Shapes.ipynb)\n",
    "&nbsp; • &nbsp; [🌐 **ML4Science**](https://github.com/holl-/ML4Science)\n",
    "&nbsp; • &nbsp; [📖 **Documentation**](https://holl-.github.io/ML4Science/)\n",
    "&nbsp; • &nbsp; [🔗 **API**](https://holl-.github.io/ML4Science/ml4s)\n",
    "&nbsp; • &nbsp; [**▶ Videos**]()\n",
    "&nbsp; • &nbsp; [<img src=\"images/colab_logo_small.png\" height=4>](https://colab.research.google.com/github/holl-/ML4Science/blob/main/docs/Examples.ipynb) [**Examples**](https://holl-.github.io/ML4Science/Examples.html)\n"
   ],
   "metadata": {
    "collapsed": false,
    "pycharm": {
     "name": "#%% md\n"
    }
   }
  },
  {
   "cell_type": "code",
   "execution_count": 3,
   "outputs": [],
   "source": [
    "# !pip install ml4s\n",
    "from ml4s import math"
   ],
   "metadata": {
    "collapsed": false,
    "pycharm": {
     "name": "#%%\n"
    }
   }
  },
  {
   "cell_type": "markdown",
   "source": [
    "## Dimension Types\n",
    "\n",
    "The largest difference between ML4Science and its backend libraries like PyTorch or Jax lies in the tensor shapes.\n",
    "When using [ML4Science's tensors](Tensors.html), all dimensions must be assigned a name and type flag.\n",
    "The following dimension types are available:\n",
    "\n",
    "* *batch* dimensions can be added to any code in order to parallelize it. This is their only function. The code should always give the exact same result as if it was called sequentially on all slices and the results were stacked along the batch dimension.\n",
    "* *channel* dimensions list components of one object, such as a pixel, grid cell or particle. Typical examples include color channels or (x,y,z) components of a vector.\n",
    "* *spatial* dimensions denote grid dimensions. Typically, elements are equally-spaced along spatial dimensions, enabling operations such as convolutions or FFTs. The resolution of an image or lattice is typically expressed via spatial dimensions.\n",
    "* *instance* dimensions enumerate objects that are not regularly ordered, such as moving particles or finite elements.\n",
    "* *dual* dimensions represent function inputs and are typically used to denote the columns of matrices. See [the matrix documentation](Matrices.html) for more."
   ],
   "metadata": {
    "collapsed": false,
    "pycharm": {
     "name": "#%% md\n"
    }
   }
  },
  {
   "cell_type": "code",
   "execution_count": 4,
   "outputs": [
    {
     "data": {
      "text/plain": "(examplesᵇ=100)"
     },
     "execution_count": 4,
     "metadata": {},
     "output_type": "execute_result"
    }
   ],
   "source": [
    "from ml4s.math import batch, channel, spatial, instance, dual\n",
    "BATCH = batch(examples=100)\n",
    "BATCH"
   ],
   "metadata": {
    "collapsed": false,
    "pycharm": {
     "name": "#%%\n"
    }
   }
  },
  {
   "cell_type": "markdown",
   "source": [
    "Here, we have created a [`Shape`](https://holl-.github.io/ML4Science/ml4s/math/index.html#ml4s.math.Shape) containing a single *batch* dimension with name `examples`.\n",
    "Note the superscript `b` to indicate that this is a batch dimension. Naturally the other superscripts are `c` for *channel*, `s` for *spatial*, `i` for *instance* and `d` for *dual*.\n",
    "\n",
    "We can now use this shape to construct tensors:"
   ],
   "metadata": {
    "collapsed": false,
    "pycharm": {
     "name": "#%% md\n"
    }
   }
  },
  {
   "cell_type": "code",
   "execution_count": 5,
   "outputs": [
    {
     "data": {
      "text/plain": "\u001B[92m(examplesᵇ=100)\u001B[0m \u001B[94mconst 0.0\u001B[0m"
     },
     "execution_count": 5,
     "metadata": {},
     "output_type": "execute_result"
    }
   ],
   "source": [
    "x = math.zeros(BATCH)\n",
    "x"
   ],
   "metadata": {
    "collapsed": false,
    "pycharm": {
     "name": "#%%\n"
    }
   }
  },
  {
   "cell_type": "markdown",
   "source": [
    "Let's create a tensor with this batch and multiple spatial dimensions!\n",
    "We can pass multiple shapes to tensor constructors and can construct multiple dimensions of the same type in one call."
   ],
   "metadata": {
    "collapsed": false,
    "pycharm": {
     "name": "#%% md\n"
    }
   }
  },
  {
   "cell_type": "code",
   "execution_count": 6,
   "outputs": [
    {
     "data": {
      "text/plain": "\u001B[92m(examplesᵇ=100, xˢ=28, yˢ=28)\u001B[0m \u001B[94mconst 1.0\u001B[0m"
     },
     "execution_count": 6,
     "metadata": {},
     "output_type": "execute_result"
    }
   ],
   "source": [
    "x = math.ones(BATCH, spatial(x=28, y=28))\n",
    "x"
   ],
   "metadata": {
    "collapsed": false,
    "pycharm": {
     "name": "#%%\n"
    }
   }
  },
  {
   "cell_type": "markdown",
   "source": [
    "We can retrieve the `Shape` of x using either `x.shape` or [`math.shape(x)`](https://holl-.github.io/ML4Science/ml4s/math/index.html#ml4s.math.shape) which also works on primitive types."
   ],
   "metadata": {
    "collapsed": false,
    "pycharm": {
     "name": "#%% md\n"
    }
   }
  },
  {
   "cell_type": "code",
   "execution_count": 7,
   "outputs": [
    {
     "data": {
      "text/plain": "(examplesᵇ=100, xˢ=28, yˢ=28)"
     },
     "execution_count": 7,
     "metadata": {},
     "output_type": "execute_result"
    }
   ],
   "source": [
    "x.shape"
   ],
   "metadata": {
    "collapsed": false,
    "pycharm": {
     "name": "#%%\n"
    }
   }
  },
  {
   "cell_type": "markdown",
   "source": [
    "The dimension constructors, such as `math.spatial`, can also be used to filter for only these dimensions off an object."
   ],
   "metadata": {
    "collapsed": false,
    "pycharm": {
     "name": "#%% md\n"
    }
   }
  },
  {
   "cell_type": "code",
   "execution_count": 8,
   "outputs": [
    {
     "data": {
      "text/plain": "(xˢ=28, yˢ=28)"
     },
     "execution_count": 8,
     "metadata": {},
     "output_type": "execute_result"
    }
   ],
   "source": [
    "spatial(x)"
   ],
   "metadata": {
    "collapsed": false,
    "pycharm": {
     "name": "#%%\n"
    }
   }
  },
  {
   "cell_type": "markdown",
   "source": [
    "There are additional filter function, such as [`non_***`](https://holl-.github.io/ML4Science/ml4s/math/index.html#ml4s.math.non_batch) as well as [`primal`](https://holl-.github.io/ML4Science/ml4s/math/index.html#ml4s.math.primal) to exclude *batch* and *dual* dimensions.\n",
    "\n",
    "This way, we can easily construct a tensor without the batch dimension."
   ],
   "metadata": {
    "collapsed": false,
    "pycharm": {
     "name": "#%% md\n"
    }
   }
  },
  {
   "cell_type": "code",
   "execution_count": 9,
   "outputs": [
    {
     "data": {
      "text/plain": "\u001B[92m(xˢ=28, yˢ=28)\u001B[0m \u001B[94m0.522 ± 0.285\u001B[0m \u001B[37m(3e-04...1e+00)\u001B[0m"
     },
     "execution_count": 9,
     "metadata": {},
     "output_type": "execute_result"
    }
   ],
   "source": [
    "from ml4s.math import non_batch, non_channel, non_spatial, non_instance, non_dual, primal, non_primal\n",
    "math.random_uniform(non_batch(x))"
   ],
   "metadata": {
    "collapsed": false,
    "pycharm": {
     "name": "#%%\n"
    }
   }
  },
  {
   "cell_type": "markdown",
   "source": [
    "## Automatic Reshaping\n",
    "\n",
    "One major advantage of naming all dimensions is that reshaping operations can be performed under-the-hood.\n",
    "Assuming we have a tensor with dimensions `a,b` and another with the reverse dimension order."
   ],
   "metadata": {
    "collapsed": false,
    "pycharm": {
     "name": "#%% md\n"
    }
   }
  },
  {
   "cell_type": "code",
   "execution_count": 10,
   "outputs": [],
   "source": [
    "t1 = math.random_normal(channel(a=2, b=3))\n",
    "t2 = math.random_normal(channel(b=3, a=2))"
   ],
   "metadata": {
    "collapsed": false,
    "pycharm": {
     "name": "#%%\n"
    }
   }
  },
  {
   "cell_type": "markdown",
   "source": [
    "When combining them in a tensor operation, ML4Science automatically transposes the tensors to match."
   ],
   "metadata": {
    "collapsed": false,
    "pycharm": {
     "name": "#%% md\n"
    }
   }
  },
  {
   "cell_type": "code",
   "execution_count": 11,
   "outputs": [
    {
     "data": {
      "text/plain": "\u001B[94m(-1.495, 1.671, -0.905, 0.743, -1.208, -0.851)\u001B[0m \u001B[92m(aᶜ=2, bᶜ=3)\u001B[0m"
     },
     "execution_count": 11,
     "metadata": {},
     "output_type": "execute_result"
    }
   ],
   "source": [
    "t1 + t2"
   ],
   "metadata": {
    "collapsed": false,
    "pycharm": {
     "name": "#%%\n"
    }
   }
  },
  {
   "cell_type": "markdown",
   "source": [
    "The resulting dimension order is generally undefined.\n",
    "However, this is of no consequence, because dimensions are never referenced by their index in the shape.\n",
    "\n",
    "When one of the tensors is missing a dimension, it will be added automatically.\n",
    "In these cases, you can think of the value being constant along the missing dimension (like with [singleton dimensions in NumPy](https://numpy.org/doc/stable/reference/generated/numpy.expand_dims.html))."
   ],
   "metadata": {
    "collapsed": false,
    "pycharm": {
     "name": "#%% md\n"
    }
   }
  },
  {
   "cell_type": "code",
   "execution_count": 12,
   "outputs": [
    {
     "data": {
      "text/plain": "\u001B[94m(2.287, 0.391, 0.760, 2.096, 0.200, 0.569)\u001B[0m \u001B[92m(aᶜ=2, bᶜ=3)\u001B[0m"
     },
     "execution_count": 12,
     "metadata": {},
     "output_type": "execute_result"
    }
   ],
   "source": [
    "t1 = math.random_normal(channel(a=2))\n",
    "t2 = math.random_normal(channel(b=3))\n",
    "t1 + t2"
   ],
   "metadata": {
    "collapsed": false,
    "pycharm": {
     "name": "#%%\n"
    }
   }
  },
  {
   "cell_type": "markdown",
   "source": [
    "Here, we created a 2D tensor from two 1D tensors. No manual reshaping required."
   ],
   "metadata": {
    "collapsed": false,
    "pycharm": {
     "name": "#%% md\n"
    }
   }
  },
  {
   "cell_type": "markdown",
   "source": [
    "## Selecting and Combining Dimensions\n",
    "\n",
    "All tensor creation functions accept a variable number of `Shape` objects as input and concatenate the dimensions internally.\n",
    "This can also be done explicitly using [`concat_shapes()`](ml4s/math/#ml4s.math.concat_shapes)."
   ],
   "metadata": {
    "collapsed": false,
    "pycharm": {
     "name": "#%% md\n"
    }
   }
  },
  {
   "cell_type": "code",
   "execution_count": 16,
   "outputs": [
    {
     "data": {
      "text/plain": "(xˢ=28, yˢ=28, channelsᶜ=red,green,blue, examplesᵇ=16)"
     },
     "execution_count": 16,
     "metadata": {},
     "output_type": "execute_result"
    }
   ],
   "source": [
    "b = batch(examples=16)\n",
    "s = spatial(x=28, y=28)\n",
    "c = channel(channels='red,green,blue')\n",
    "math.concat_shapes(s, c, b)"
   ],
   "metadata": {
    "collapsed": false,
    "pycharm": {
     "name": "#%%\n"
    }
   }
  },
  {
   "cell_type": "markdown",
   "source": [
    "This preserves the dimension order and fails if multiple dimensions with the same name are given.\n",
    "Alternatively, [`merge_shapes()`](ml4s/math/#ml4s.math.merge_shapes) can be used, which groups dimensions by type and allows for the same dimensions to be present on multiple inputs."
   ],
   "metadata": {
    "collapsed": false,
    "pycharm": {
     "name": "#%% md\n"
    }
   }
  },
  {
   "cell_type": "code",
   "execution_count": 18,
   "outputs": [
    {
     "data": {
      "text/plain": "(examplesᵇ=16, xˢ=28, yˢ=28, channelsᶜ=red,green,blue)"
     },
     "execution_count": 18,
     "metadata": {},
     "output_type": "execute_result"
    }
   ],
   "source": [
    "s = math.merge_shapes(s, c, b)\n",
    "s"
   ],
   "metadata": {
    "collapsed": false,
    "pycharm": {
     "name": "#%%\n"
    }
   }
  },
  {
   "cell_type": "markdown",
   "source": [
    "This can also be done using the `&` operator.\n",
    "Notice how the *batch* dimension is moved to the first place."
   ],
   "metadata": {
    "collapsed": false,
    "pycharm": {
     "name": "#%% md\n"
    }
   }
  },
  {
   "cell_type": "code",
   "execution_count": 44,
   "outputs": [
    {
     "data": {
      "text/plain": "(examplesᵇ=16, xˢ=28, yˢ=28, channelsᶜ=red,green,blue)"
     },
     "execution_count": 44,
     "metadata": {},
     "output_type": "execute_result"
    }
   ],
   "source": [
    "s & c & b"
   ],
   "metadata": {
    "collapsed": false,
    "pycharm": {
     "name": "#%%\n"
    }
   }
  },
  {
   "cell_type": "markdown",
   "source": [
    "Filtering shapes for specific dimensions can be done using `Shape[name]`, [`Shape.only()`](ml4s/math/#ml4s.math.Shape.only) and [`Shape.without()`](ml4s/math/#ml4s.math.Shape.without)."
   ],
   "metadata": {
    "collapsed": false,
    "pycharm": {
     "name": "#%% md\n"
    }
   }
  },
  {
   "cell_type": "code",
   "execution_count": 41,
   "outputs": [
    {
     "data": {
      "text/plain": "(xˢ=28)"
     },
     "execution_count": 41,
     "metadata": {},
     "output_type": "execute_result"
    }
   ],
   "source": [
    "s['x']"
   ],
   "metadata": {
    "collapsed": false,
    "pycharm": {
     "name": "#%%\n"
    }
   }
  },
  {
   "cell_type": "code",
   "execution_count": 42,
   "outputs": [
    {
     "data": {
      "text/plain": "(xˢ=28, yˢ=28)"
     },
     "execution_count": 42,
     "metadata": {},
     "output_type": "execute_result"
    }
   ],
   "source": [
    "s.only('x,y')"
   ],
   "metadata": {
    "collapsed": false,
    "pycharm": {
     "name": "#%%\n"
    }
   }
  },
  {
   "cell_type": "code",
   "execution_count": 43,
   "outputs": [
    {
     "data": {
      "text/plain": "(examplesᵇ=16, channelsᶜ=red,green,blue)"
     },
     "execution_count": 43,
     "metadata": {},
     "output_type": "execute_result"
    }
   ],
   "source": [
    "s.without('x,y')"
   ],
   "metadata": {
    "collapsed": false,
    "pycharm": {
     "name": "#%%\n"
    }
   }
  },
  {
   "cell_type": "code",
   "execution_count": 23,
   "outputs": [
    {
     "data": {
      "text/plain": "(xˢ=28, yˢ=28)"
     },
     "execution_count": 23,
     "metadata": {},
     "output_type": "execute_result"
    }
   ],
   "source": [
    "s.only(spatial)"
   ],
   "metadata": {
    "collapsed": false,
    "pycharm": {
     "name": "#%%\n"
    }
   }
  },
  {
   "cell_type": "markdown",
   "source": [
    "Selecting only one type of dimension can also be done using the construction function or the corresponding Shape member variable."
   ],
   "metadata": {
    "collapsed": false,
    "pycharm": {
     "name": "#%% md\n"
    }
   }
  },
  {
   "cell_type": "code",
   "execution_count": 25,
   "outputs": [
    {
     "data": {
      "text/plain": "(xˢ=28, yˢ=28)"
     },
     "execution_count": 25,
     "metadata": {},
     "output_type": "execute_result"
    }
   ],
   "source": [
    "s.spatial"
   ],
   "metadata": {
    "collapsed": false,
    "pycharm": {
     "name": "#%%\n"
    }
   }
  },
  {
   "cell_type": "code",
   "execution_count": 26,
   "outputs": [
    {
     "data": {
      "text/plain": "(xˢ=28, yˢ=28)"
     },
     "execution_count": 26,
     "metadata": {},
     "output_type": "execute_result"
    }
   ],
   "source": [
    "spatial(s)"
   ],
   "metadata": {
    "collapsed": false,
    "pycharm": {
     "name": "#%%\n"
    }
   }
  },
  {
   "cell_type": "code",
   "execution_count": 34,
   "outputs": [
    {
     "data": {
      "text/plain": "(examplesᵇ=16, channelsᶜ=red,green,blue)"
     },
     "execution_count": 34,
     "metadata": {},
     "output_type": "execute_result"
    }
   ],
   "source": [
    "s.non_spatial"
   ],
   "metadata": {
    "collapsed": false,
    "pycharm": {
     "name": "#%%\n"
    }
   }
  },
  {
   "cell_type": "code",
   "execution_count": 35,
   "outputs": [
    {
     "data": {
      "text/plain": "(examplesᵇ=16, channelsᶜ=red,green,blue)"
     },
     "execution_count": 35,
     "metadata": {},
     "output_type": "execute_result"
    }
   ],
   "source": [
    "non_spatial(s)"
   ],
   "metadata": {
    "collapsed": false,
    "pycharm": {
     "name": "#%%\n"
    }
   }
  },
  {
   "cell_type": "markdown",
   "source": [
    "## Properties of Shapes\n",
    "\n",
    "[`Shape`](ml4s/math/#ml4s.math.Shape) objects are *immutable*. Do not attempt to change any property of a `Shape` directly.\n",
    "The sizes of all dimensions can be retrieved as a `tuple` using `Shape.sizes´. The result is equal to what NumPy or any of the other backends would return for `tensor.shape`."
   ],
   "metadata": {
    "collapsed": false,
    "pycharm": {
     "name": "#%% md\n"
    }
   }
  },
  {
   "cell_type": "code",
   "execution_count": 30,
   "outputs": [
    {
     "data": {
      "text/plain": "(16, 28, 28, 3)"
     },
     "execution_count": 30,
     "metadata": {},
     "output_type": "execute_result"
    }
   ],
   "source": [
    "s.sizes"
   ],
   "metadata": {
    "collapsed": false,
    "pycharm": {
     "name": "#%%\n"
    }
   }
  },
  {
   "cell_type": "markdown",
   "source": [
    "Likewise, the names of the dimensions can be read using `Shape.names`."
   ],
   "metadata": {
    "collapsed": false,
    "pycharm": {
     "name": "#%% md\n"
    }
   }
  },
  {
   "cell_type": "code",
   "execution_count": 31,
   "outputs": [
    {
     "data": {
      "text/plain": "('examples', 'x', 'y', 'channels')"
     },
     "execution_count": 31,
     "metadata": {},
     "output_type": "execute_result"
    }
   ],
   "source": [
    "s.names"
   ],
   "metadata": {
    "collapsed": false,
    "pycharm": {
     "name": "#%%\n"
    }
   }
  },
  {
   "cell_type": "markdown",
   "source": [
    "For single-dimension shapes, the properties `name` and `size` return the value directly.\n",
    "You can select\n",
    "To get the size of a specific dimension, you can use one of the following methods:"
   ],
   "metadata": {
    "collapsed": false,
    "pycharm": {
     "name": "#%% md\n"
    }
   }
  },
  {
   "cell_type": "code",
   "execution_count": 40,
   "outputs": [
    {
     "data": {
      "text/plain": "28"
     },
     "execution_count": 40,
     "metadata": {},
     "output_type": "execute_result"
    }
   ],
   "source": [
    "s['x'].size"
   ],
   "metadata": {
    "collapsed": false,
    "pycharm": {
     "name": "#%%\n"
    }
   }
  },
  {
   "cell_type": "code",
   "execution_count": 29,
   "outputs": [
    {
     "name": "stdout",
     "output_type": "stream",
     "text": [
      "examples 16 batch\n",
      "x 28 spatial\n",
      "y 28 spatial\n",
      "channels 3 channel\n"
     ]
    }
   ],
   "source": [
    "for dim in s:\n",
    "    print(dim.name, dim.size, dim.dim_type.__name__)"
   ],
   "metadata": {
    "collapsed": false,
    "pycharm": {
     "name": "#%%\n"
    }
   }
  },
  {
   "cell_type": "markdown",
   "source": [
    "The number of dimensions and total elements can be retrieved using `len(Shape)` and `Shape.volume`, respectively."
   ],
   "metadata": {
    "collapsed": false,
    "pycharm": {
     "name": "#%% md\n"
    }
   }
  },
  {
   "cell_type": "code",
   "execution_count": 46,
   "outputs": [
    {
     "data": {
      "text/plain": "4"
     },
     "execution_count": 46,
     "metadata": {},
     "output_type": "execute_result"
    }
   ],
   "source": [
    "len(s)"
   ],
   "metadata": {
    "collapsed": false,
    "pycharm": {
     "name": "#%%\n"
    }
   }
  },
  {
   "cell_type": "code",
   "execution_count": 48,
   "outputs": [
    {
     "data": {
      "text/plain": "2352"
     },
     "execution_count": 48,
     "metadata": {},
     "output_type": "execute_result"
    }
   ],
   "source": [
    "s.non_batch.volume"
   ],
   "metadata": {
    "collapsed": false,
    "pycharm": {
     "name": "#%%\n"
    }
   }
  },
  {
   "cell_type": "markdown",
   "source": [
    "## Changing Dimensions\n",
    "\n",
    "The names and types of dimensions can be changed, but this always returns a new object, leaving the original unaltered.\n",
    "Assume, we want to rename the `channels` dimension from above to `color`."
   ],
   "metadata": {
    "collapsed": false,
    "pycharm": {
     "name": "#%% md\n"
    }
   }
  },
  {
   "cell_type": "code",
   "execution_count": 49,
   "outputs": [
    {
     "data": {
      "text/plain": "(examplesᵇ=16, xˢ=28, yˢ=28, colorᶜ=red,green,blue)"
     },
     "execution_count": 49,
     "metadata": {},
     "output_type": "execute_result"
    }
   ],
   "source": [
    "math.rename_dims(s, 'channels', 'color')"
   ],
   "metadata": {
    "collapsed": false,
    "pycharm": {
     "name": "#%%\n"
    }
   }
  },
  {
   "cell_type": "markdown",
   "source": [
    "The same can be done for tensors."
   ],
   "metadata": {
    "collapsed": false,
    "pycharm": {
     "name": "#%% md\n"
    }
   }
  },
  {
   "cell_type": "code",
   "execution_count": 50,
   "outputs": [
    {
     "data": {
      "text/plain": "\u001B[92m(examplesᵇ=16, xˢ=28, yˢ=28, colorᶜ=red,green,blue)\u001B[0m \u001B[94mconst 0.0\u001B[0m"
     },
     "execution_count": 50,
     "metadata": {},
     "output_type": "execute_result"
    }
   ],
   "source": [
    "math.rename_dims(math.zeros(s), 'channels', 'color')"
   ],
   "metadata": {
    "collapsed": false,
    "pycharm": {
     "name": "#%%\n"
    }
   }
  },
  {
   "cell_type": "markdown",
   "source": [
    "To change the type, you may use `replace_dims()`, which is an alias for `rename_dims()` but clarifies the intended use."
   ],
   "metadata": {
    "collapsed": false,
    "pycharm": {
     "name": "#%% md\n"
    }
   }
  },
  {
   "cell_type": "code",
   "execution_count": 53,
   "outputs": [
    {
     "data": {
      "text/plain": "(examplesᵇ=16, xˢ=28, yˢ=28, channelsᵇ=3)"
     },
     "execution_count": 53,
     "metadata": {},
     "output_type": "execute_result"
    }
   ],
   "source": [
    "math.replace_dims(s, 'channels', batch('channels'))"
   ],
   "metadata": {
    "collapsed": false,
    "pycharm": {
     "name": "#%%\n"
    }
   }
  },
  {
   "cell_type": "markdown",
   "source": [
    "## Response to Dimension Types by Function\n",
    "\n",
    "The dimension types serve an important role in indicating what role a dimension plays.\n",
    "Many `math` functions behave differently, depending on the given dimension types.\n",
    "\n",
    "Vector operations like [`vec_length`](ml4s/math#ml4s.math.vec_length) or [`rotate_vector`](ml4s/math#ml4s.math.rotate_vector) require the input to have a *channel* dimension to list the vector components.\n",
    "\n",
    "Spatial operations like [`fft`](ml4s/math#ml4s.math.fft) or [`convolve`](ml4s/math#ml4s.math.convolve),\n",
    "as well as finite differences\n",
    "[`spatial_gradient`](ml4s/math#ml4s.math.spatial_gradient), [`laplace`](ml4s/math#ml4s.math.laplace),\n",
    "[`fourier_laplace`](ml4s/math#ml4s.math.fourier_laplace), [`fourier_poisson`](ml4s/math#ml4s.math.fourier_poisson),\n",
    "and resampling operations like\n",
    "[`downsample2x`](ml4s/math#ml4s.math.downsample2x),\n",
    "[`upsample2x`](ml4s/math#ml4s.math.upsample2x),\n",
    "[`grid_sample`](ml4s/math#ml4s.math.grid_sample) act only on *spatial* dimensions.\n",
    "Their dimensionality (1D/2D/3D/etc.) [depends on the number of spatial dimensions](N_Dimensional.html) of the input.\n",
    "\n",
    "Dual dimensions are ignored (treated as batch dimensions) by almost all functions, except for [matrix multiplications](Matrices.html), `matrix @ vector`, which reduces the dual dimensions of the matrix against the corresponding primal dimensions of the vector.\n",
    "Dual dimensions are created by certain operations like [`pairwise_distances`](ml4s/math#ml4s.math.pairwise_distances).\n",
    "\n",
    "All functions ignore *batch* dimensions.\n",
    "This also applies to functions that would usually reduce all dimensions by default, such as\n",
    "[`sum`](ml4s/math#ml4s.math.sum), [`mean`](ml4s/math#ml4s.math.mean), [`std`](ml4s/math#ml4s.math.std),\n",
    "[`any`](ml4s/math#ml4s.math.any), [`all`](ml4s/math#ml4s.math.all),\n",
    "[`max`](ml4s/math#ml4s.math.max), [`min`](ml4s/math#ml4s.math.min) and many more, as well as loss functions like the [`l2_loss`](ml4s/math#ml4s.math.l2_loss).\n",
    "\n",
    "The elementary functions\n",
    "[`gather`](ml4s/math#ml4s.math.gather) and\n",
    "[`scatter`](ml4s/math#ml4s.math.scatter) act on *spatial* or *instance* dimensions of the grid.\n",
    "The indices are listed along *instance* dimensions and the index components along a singular *channel* dimension."
   ],
   "metadata": {
    "collapsed": false,
    "pycharm": {
     "name": "#%% md\n"
    }
   }
  },
  {
   "cell_type": "markdown",
   "source": [
    "## Further Reading\n",
    "\n",
    "Dimension names play an important role in [slicing tensors](Introduction.html#Slicing).\n",
    "To make your code more readable, you can also name slices along dimensions.\n",
    "\n",
    "The number of spatial dimensions dictates what dimensionality (1D, 2D, 3D) your code works in.\n",
    "You can therefore write code that [works in 1D, 2D, 3D and beyond](N_Dimensional.html).\n",
    "\n",
    "Dual dimensions are used to represent [columns of matrices](Matrices.html#Primal-and-Dual-Dimensions).\n",
    "\n",
    "Stacking tensors with the same dimension names but different sizes results in [non-uniform shapes](Non_Uniform.html).\n",
    "\n",
    "[🌐 **ML4Science**](https://github.com/holl-/ML4Science)\n",
    "&nbsp; • &nbsp; [📖 **Documentation**](https://holl-.github.io/ML4Science/)\n",
    "&nbsp; • &nbsp; [🔗 **API**](https://holl-.github.io/ML4Science/ml4s)\n",
    "&nbsp; • &nbsp; [**▶ Videos**]()\n",
    "&nbsp; • &nbsp; [<img src=\"images/colab_logo_small.png\" height=4>](https://colab.research.google.com/github/holl-/ML4Science/blob/main/docs/Examples.ipynb) [**Examples**](https://holl-.github.io/ML4Science/Examples.html)"
   ],
   "metadata": {
    "collapsed": false,
    "pycharm": {
     "name": "#%% md\n"
    }
   }
  },
  {
   "cell_type": "markdown",
   "source": [],
   "metadata": {
    "collapsed": false,
    "pycharm": {
     "name": "#%% md\n"
    }
   }
  }
 ],
 "metadata": {
  "kernelspec": {
   "display_name": "Python 3",
   "language": "python",
   "name": "python3"
  },
  "language_info": {
   "codemirror_mode": {
    "name": "ipython",
    "version": 2
   },
   "file_extension": ".py",
   "mimetype": "text/x-python",
   "name": "python",
   "nbconvert_exporter": "python",
   "pygments_lexer": "ipython2",
   "version": "2.7.6"
  }
 },
 "nbformat": 4,
 "nbformat_minor": 0
}