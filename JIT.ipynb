{
 "cells": [
  {
   "cell_type": "markdown",
   "source": [
    "# JIT Compilation in UnifyML\n",
    "\n",
    "[![Colab](https://colab.research.google.com/assets/colab-badge.svg)](https://colab.research.google.com/github/holl-/UnifyML/blob/main/docs/JIT.ipynb)\n",
    "&nbsp; • &nbsp; [🌐 **UnifyML**](https://github.com/holl-/UnifyML)\n",
    "&nbsp; • &nbsp; [📖 **Documentation**](https://holl-.github.io/UnifyML/)\n",
    "&nbsp; • &nbsp; [🔗 **API**](https://holl-.github.io/UnifyML/unifyml)\n",
    "&nbsp; • &nbsp; [**▶ Videos**]()\n",
    "&nbsp; • &nbsp; [<img src=\"images/colab_logo_small.png\" height=4>](https://colab.research.google.com/github/holl-/UnifyML/blob/main/docs/Examples.ipynb) [**Examples**](https://holl-.github.io/UnifyML/Examples.html)\n",
    "\n",
    "Just-in-time (JIT) compilation can drastically speed up your code as Python-related overheads are eliminated and optimizations can be performed."
   ],
   "metadata": {
    "collapsed": false,
    "pycharm": {
     "name": "#%% md\n"
    }
   }
  },
  {
   "cell_type": "code",
   "execution_count": 17,
   "outputs": [],
   "source": [
    "%%capture\n",
    "!pip install unifyml\n",
    "\n",
    "from unifyml import math\n",
    "\n",
    "math.use('jax')"
   ],
   "metadata": {
    "collapsed": false,
    "pycharm": {
     "name": "#%%\n"
    }
   }
  },
  {
   "cell_type": "markdown",
   "source": [
    "In UnifyML, you can JIT-compile a function using the [`math.jit_compile()`](unifyml/math#unifyml.math.jit_compile) decorator."
   ],
   "metadata": {
    "collapsed": false,
    "pycharm": {
     "name": "#%% md\n"
    }
   }
  },
  {
   "cell_type": "code",
   "execution_count": 18,
   "outputs": [],
   "source": [
    "@math.jit_compile\n",
    "def fun(x):\n",
    "    print(f\"Tracing fun with x = {x}\")\n",
    "    return 2 * x"
   ],
   "metadata": {
    "collapsed": false,
    "pycharm": {
     "name": "#%%\n"
    }
   }
  },
  {
   "cell_type": "markdown",
   "source": [
    "The first time the function is called with new arguments, it is traced, i.e. all tensor operations are recorded.\n",
    "Then, the passed arguments have concrete shapes but no concrete values.\n",
    "Consequently, traced tensors cannot be used in control flow, such as `if` or loop conditions.\n",
    "Replace `if` statements by [`math.where()`](unifyml/math#unifyml.math.where).\n",
    "\n",
    "Depending on the used backend, the function may be called multiple times during tracing."
   ],
   "metadata": {
    "collapsed": false,
    "pycharm": {
     "name": "#%% md\n"
    }
   }
  },
  {
   "cell_type": "code",
   "execution_count": 19,
   "outputs": [
    {
     "name": "stdout",
     "output_type": "stream",
     "text": [
      "Tracing fun with x = \u001B[92m()\u001B[0m \u001B[93mfloat32\u001B[0m \u001B[94mjax tracer\u001B[0m\n"
     ]
    },
    {
     "data": {
      "text/plain": "\u001B[94m2.0\u001B[0m"
     },
     "execution_count": 19,
     "metadata": {},
     "output_type": "execute_result"
    }
   ],
   "source": [
    "fun(math.tensor(1.))"
   ],
   "metadata": {
    "collapsed": false,
    "pycharm": {
     "name": "#%%\n"
    }
   }
  },
  {
   "cell_type": "markdown",
   "source": [
    "Whenever the function is called with similar arguments to a previous call, the compiled version of the function is evaluated without calling the Python code.\n",
    "Instead, the previously recorded tensor operations are performed again on the new input."
   ],
   "metadata": {
    "collapsed": false,
    "pycharm": {
     "name": "#%% md\n"
    }
   }
  },
  {
   "cell_type": "code",
   "execution_count": 20,
   "outputs": [
    {
     "data": {
      "text/plain": "\u001B[94m2.0\u001B[0m"
     },
     "execution_count": 20,
     "metadata": {},
     "output_type": "execute_result"
    }
   ],
   "source": [
    "fun(math.tensor(1.))"
   ],
   "metadata": {
    "collapsed": false,
    "pycharm": {
     "name": "#%%\n"
    }
   }
  },
  {
   "cell_type": "markdown",
   "source": [
    "Note that the `print` statement was not executed since `fun` was not actually called.\n",
    "If we call the function with different shapes or dtypes, it will be traced again."
   ],
   "metadata": {
    "collapsed": false,
    "pycharm": {
     "name": "#%% md\n"
    }
   }
  },
  {
   "cell_type": "code",
   "execution_count": 21,
   "outputs": [
    {
     "name": "stdout",
     "output_type": "stream",
     "text": [
      "Tracing fun with x = \u001B[92m(vectorᶜ=2)\u001B[0m \u001B[93mint64\u001B[0m \u001B[94mjax tracer\u001B[0m\n"
     ]
    },
    {
     "data": {
      "text/plain": "\u001B[94m(2, 4)\u001B[0m \u001B[93mint64\u001B[0m"
     },
     "execution_count": 21,
     "metadata": {},
     "output_type": "execute_result"
    }
   ],
   "source": [
    "fun(math.tensor([1, 2]))"
   ],
   "metadata": {
    "collapsed": false,
    "pycharm": {
     "name": "#%%\n"
    }
   }
  },
  {
   "cell_type": "markdown",
   "source": [
    "## NumPy Operations\n",
    "\n",
    "All [NumPy operations are performed at JIT-compile time](NumPy_Constants.html) and will not be executed once the function is compiled, similar to the `print` statement.\n",
    "NumPy-backed tensors always have concrete values and can be used in `if` statements as well as loop conditions."
   ],
   "metadata": {
    "collapsed": false,
    "pycharm": {
     "name": "#%% md\n"
    }
   }
  },
  {
   "cell_type": "code",
   "execution_count": 30,
   "outputs": [
    {
     "name": "stdout",
     "output_type": "stream",
     "text": [
      "Tracing fun with x = \u001B[92m()\u001B[0m \u001B[93mfloat32\u001B[0m \u001B[94mjax tracer\u001B[0m\n",
      "z = \u001B[93mfloat64\u001B[0m \u001B[94m-0.7568025\u001B[0m\n"
     ]
    },
    {
     "data": {
      "text/plain": "\u001B[94m-0.7568025\u001B[0m"
     },
     "execution_count": 30,
     "metadata": {},
     "output_type": "execute_result"
    }
   ],
   "source": [
    "@math.jit_compile\n",
    "def fun(x):\n",
    "    print(f\"Tracing fun with x = {x}\")\n",
    "    y = math.wrap(2)\n",
    "    z = math.sin(y ** 2)\n",
    "    print(f\"z = {z}\")\n",
    "    if z > 1:\n",
    "        return z * x\n",
    "    else:\n",
    "        return z / x\n",
    "\n",
    "fun(math.tensor(1.))"
   ],
   "metadata": {
    "collapsed": false,
    "pycharm": {
     "name": "#%%\n"
    }
   }
  },
  {
   "cell_type": "markdown",
   "source": [
    "Here, the control flow can depend on `z` since it is a NumPy array.\n",
    "\n",
    "## Auxiliary Arguments\n",
    "\n",
    "If we want the control flow to depend on a parameter, we must pass it as an auxiliary argument."
   ],
   "metadata": {
    "collapsed": false,
    "pycharm": {
     "name": "#%% md\n"
    }
   }
  },
  {
   "cell_type": "code",
   "execution_count": 31,
   "outputs": [
    {
     "name": "stdout",
     "output_type": "stream",
     "text": [
      "Tracing fun with x = \u001B[92m()\u001B[0m \u001B[93mfloat32\u001B[0m \u001B[94mjax tracer\u001B[0m, y = \u001B[94m2\u001B[0m\n",
      "z = \u001B[93mfloat64\u001B[0m \u001B[94m-0.7568025\u001B[0m\n"
     ]
    },
    {
     "data": {
      "text/plain": "\u001B[94m-0.7568025\u001B[0m"
     },
     "execution_count": 31,
     "metadata": {},
     "output_type": "execute_result"
    }
   ],
   "source": [
    "@math.jit_compile(auxiliary_args='y')\n",
    "def fun(x, y):\n",
    "    print(f\"Tracing fun with x = {x}, y = {y}\")\n",
    "    z = math.sin(y ** 2)\n",
    "    print(f\"z = {z}\")\n",
    "    if (z > 1).all:\n",
    "        return z * x\n",
    "    else:\n",
    "        return z / x\n",
    "\n",
    "fun(math.tensor(1.), math.wrap(2))"
   ],
   "metadata": {
    "collapsed": false,
    "pycharm": {
     "name": "#%%\n"
    }
   }
  },
  {
   "cell_type": "markdown",
   "source": [
    "The function always needs to be re-traced if an auxiliary argument changes in any way.\n",
    "\n",
    "You can check whether a function would have to be traced using [`math.trace_check()](unifyml/math#unifyml.math.trace_check)."
   ],
   "metadata": {
    "collapsed": false,
    "pycharm": {
     "name": "#%% md\n"
    }
   }
  },
  {
   "cell_type": "code",
   "execution_count": 32,
   "outputs": [
    {
     "data": {
      "text/plain": "(True, '')"
     },
     "execution_count": 32,
     "metadata": {},
     "output_type": "execute_result"
    }
   ],
   "source": [
    "math.trace_check(fun, math.tensor(1.), math.wrap(2))"
   ],
   "metadata": {
    "collapsed": false,
    "pycharm": {
     "name": "#%%\n"
    }
   }
  },
  {
   "cell_type": "code",
   "execution_count": 33,
   "outputs": [
    {
     "data": {
      "text/plain": "(False, 'Auxiliary arguments do not match')"
     },
     "execution_count": 33,
     "metadata": {},
     "output_type": "execute_result"
    }
   ],
   "source": [
    "math.trace_check(fun, math.tensor(1.), math.wrap(-1))"
   ],
   "metadata": {
    "collapsed": false,
    "pycharm": {
     "name": "#%%\n"
    }
   }
  },
  {
   "cell_type": "markdown",
   "source": [
    "## Further Reading\n",
    "\n",
    "[🌐 **UnifyML**](https://github.com/holl-/UnifyML)\n",
    "&nbsp; • &nbsp; [📖 **Documentation**](https://holl-.github.io/UnifyML/unifyml/)\n",
    "&nbsp; • &nbsp; [🔗 **API**](https://holl-.github.io/UnifyML/unifyml)\n",
    "&nbsp; • &nbsp; [**▶ Videos**]()\n",
    "&nbsp; • &nbsp; [<img src=\"images/colab_logo_small.png\" height=4>](https://colab.research.google.com/github/holl-/UnifyML/blob/main/docs/Examples.ipynb) [**Examples**](https://holl-.github.io/UnifyML/Examples.html)"
   ],
   "metadata": {
    "collapsed": false,
    "pycharm": {
     "name": "#%% md\n"
    }
   }
  }
 ],
 "metadata": {
  "kernelspec": {
   "display_name": "Python 3",
   "language": "python",
   "name": "python3"
  },
  "language_info": {
   "codemirror_mode": {
    "name": "ipython",
    "version": 2
   },
   "file_extension": ".py",
   "mimetype": "text/x-python",
   "name": "python",
   "nbconvert_exporter": "python",
   "pygments_lexer": "ipython2",
   "version": "2.7.6"
  }
 },
 "nbformat": 4,
 "nbformat_minor": 0
}